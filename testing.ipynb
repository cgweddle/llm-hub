{
 "cells": [
  {
   "cell_type": "code",
   "execution_count": 1,
   "metadata": {},
   "outputs": [
    {
     "name": "stderr",
     "output_type": "stream",
     "text": [
      "c:\\Users\\cgwed\\anaconda3\\envs\\llm_hub\\Lib\\site-packages\\langgraph\\graph\\graph.py:30: LangChainDeprecationWarning: As of langchain-core 0.3.0, LangChain uses pydantic v2 internally. The langchain_core.pydantic_v1 module was a compatibility shim for pydantic v1, and should no longer be used. Please update the code to import from Pydantic directly.\n",
      "\n",
      "For example, replace imports like: `from langchain_core.pydantic_v1 import BaseModel`\n",
      "with: `from pydantic import BaseModel`\n",
      "or the v1 compatibility namespace if you are working in a code base that has not been fully upgraded to pydantic 2 yet. \tfrom pydantic.v1 import BaseModel\n",
      "\n",
      "  from langgraph.pregel import Channel, Pregel\n",
      "c:\\Users\\cgwed\\anaconda3\\envs\\llm_hub\\Lib\\site-packages\\pydantic\\_internal\\_generate_schema.py:547: UserWarning: <built-in function callable> is not a Python type (it may be an instance of an object), Pydantic will allow any object with no validation since we cannot even enforce that the input is an instance of the given type. To get rid of this error wrap the type with `pydantic.SkipValidation`.\n",
      "  warn(\n"
     ]
    },
    {
     "data": {
      "text/plain": [
       "True"
      ]
     },
     "execution_count": 1,
     "metadata": {},
     "output_type": "execute_result"
    }
   ],
   "source": [
    "%load_ext autoreload\n",
    "%autoreload 2\n",
    "from scripts.agents import Tool, InternalTool, CustomAgent, CustomGraph, InternalToolInput\n",
    "from dotenv import load_dotenv\n",
    "load_dotenv()"
   ]
  },
  {
   "cell_type": "code",
   "execution_count": 3,
   "metadata": {},
   "outputs": [],
   "source": [
    "def test_internal_tool():\n",
    "    # Define a simple function to be used as the tool's function\n",
    "    def example_function(query: str, additional_arg: str = \"\") -> str:\n",
    "        return f\"Processed query: {query}, Additional arg: {additional_arg}\"\n",
    "\n",
    "    # Create an instance of InternalTool\n",
    "    tool = InternalTool(\n",
    "        name=\"ExampleTool\",\n",
    "        description=\"An example tool for testing\",\n",
    "        function=example_function\n",
    "    )\n",
    "\n",
    "\n",
    "    # Test the prepare method\n",
    "    prepared_tool = tool.prepare(additional_arg=\"test_arg\")\n",
    "\n",
    "    # Test the _run method\n",
    "    result1 = tool._run(query=\"Hello, world!\")\n",
    "\n",
    "    # Test the _run method with overriding prepared args\n",
    "    result2 = tool._run(query=\"Hello, again!\", additional_arg=\"override_arg\")\n",
    "    return prepared_tool, result1, result2"
   ]
  },
  {
   "cell_type": "code",
   "execution_count": 4,
   "metadata": {},
   "outputs": [
    {
     "ename": "AttributeError",
     "evalue": "'InternalTool' object has no attribute 'prepare'",
     "output_type": "error",
     "traceback": [
      "\u001b[1;31m---------------------------------------------------------------------------\u001b[0m",
      "\u001b[1;31mAttributeError\u001b[0m                            Traceback (most recent call last)",
      "Cell \u001b[1;32mIn[4], line 1\u001b[0m\n\u001b[1;32m----> 1\u001b[0m tool, result1, result2 \u001b[38;5;241m=\u001b[39m \u001b[43mtest_internal_tool\u001b[49m\u001b[43m(\u001b[49m\u001b[43m)\u001b[49m\n",
      "Cell \u001b[1;32mIn[3], line 15\u001b[0m, in \u001b[0;36mtest_internal_tool\u001b[1;34m()\u001b[0m\n\u001b[0;32m      7\u001b[0m tool \u001b[38;5;241m=\u001b[39m InternalTool(\n\u001b[0;32m      8\u001b[0m     name\u001b[38;5;241m=\u001b[39m\u001b[38;5;124m\"\u001b[39m\u001b[38;5;124mExampleTool\u001b[39m\u001b[38;5;124m\"\u001b[39m,\n\u001b[0;32m      9\u001b[0m     description\u001b[38;5;241m=\u001b[39m\u001b[38;5;124m\"\u001b[39m\u001b[38;5;124mAn example tool for testing\u001b[39m\u001b[38;5;124m\"\u001b[39m,\n\u001b[0;32m     10\u001b[0m     function\u001b[38;5;241m=\u001b[39mexample_function\n\u001b[0;32m     11\u001b[0m )\n\u001b[0;32m     14\u001b[0m \u001b[38;5;66;03m# Test the prepare method\u001b[39;00m\n\u001b[1;32m---> 15\u001b[0m prepared_tool \u001b[38;5;241m=\u001b[39m \u001b[43mtool\u001b[49m\u001b[38;5;241;43m.\u001b[39;49m\u001b[43mprepare\u001b[49m(additional_arg\u001b[38;5;241m=\u001b[39m\u001b[38;5;124m\"\u001b[39m\u001b[38;5;124mtest_arg\u001b[39m\u001b[38;5;124m\"\u001b[39m)\n\u001b[0;32m     17\u001b[0m \u001b[38;5;66;03m# Test the _run method\u001b[39;00m\n\u001b[0;32m     18\u001b[0m result1 \u001b[38;5;241m=\u001b[39m tool\u001b[38;5;241m.\u001b[39m_run(query\u001b[38;5;241m=\u001b[39m\u001b[38;5;124m\"\u001b[39m\u001b[38;5;124mHello, world!\u001b[39m\u001b[38;5;124m\"\u001b[39m)\n",
      "File \u001b[1;32mc:\\Users\\cgwed\\anaconda3\\envs\\llm_hub\\Lib\\site-packages\\pydantic\\main.py:856\u001b[0m, in \u001b[0;36mBaseModel.__getattr__\u001b[1;34m(self, item)\u001b[0m\n\u001b[0;32m    853\u001b[0m     \u001b[38;5;28;01mreturn\u001b[39;00m \u001b[38;5;28msuper\u001b[39m()\u001b[38;5;241m.\u001b[39m\u001b[38;5;21m__getattribute__\u001b[39m(item)  \u001b[38;5;66;03m# Raises AttributeError if appropriate\u001b[39;00m\n\u001b[0;32m    854\u001b[0m \u001b[38;5;28;01melse\u001b[39;00m:\n\u001b[0;32m    855\u001b[0m     \u001b[38;5;66;03m# this is the current error\u001b[39;00m\n\u001b[1;32m--> 856\u001b[0m     \u001b[38;5;28;01mraise\u001b[39;00m \u001b[38;5;167;01mAttributeError\u001b[39;00m(\u001b[38;5;124mf\u001b[39m\u001b[38;5;124m'\u001b[39m\u001b[38;5;132;01m{\u001b[39;00m\u001b[38;5;28mtype\u001b[39m(\u001b[38;5;28mself\u001b[39m)\u001b[38;5;241m.\u001b[39m\u001b[38;5;18m__name__\u001b[39m\u001b[38;5;132;01m!r}\u001b[39;00m\u001b[38;5;124m object has no attribute \u001b[39m\u001b[38;5;132;01m{\u001b[39;00mitem\u001b[38;5;132;01m!r}\u001b[39;00m\u001b[38;5;124m'\u001b[39m)\n",
      "\u001b[1;31mAttributeError\u001b[0m: 'InternalTool' object has no attribute 'prepare'"
     ]
    }
   ],
   "source": [
    "tool, result1, result2 = test_internal_tool()"
   ]
  },
  {
   "cell_type": "code",
   "execution_count": 9,
   "metadata": {},
   "outputs": [],
   "source": [
    "from unittest.mock import Mock\n",
    "mock_llm = Mock()\n",
    "\n",
    "# Create a mock tool\n",
    "def mock_function(arg1, arg2):\n",
    "    return f\"Result: {arg1}, {arg2}\"\n",
    "present_args = {'preset_arg1': 'preset_arg1'}\n",
    "run_arg_description = {'arg1': 'arg1 descriptionn', 'arg2': 'arg2 description'}\n",
    "mock_tool = InternalTool(name=\"MockTool\", description='Mock tool for testing', function = mock_function, run_arg_descriptions=run_arg_description, present_args=present_args)\n"
   ]
  },
  {
   "cell_type": "code",
   "execution_count": 10,
   "metadata": {},
   "outputs": [],
   "source": [
    "from langchain_community.agent_toolkits.load_tools import load_tools\n",
    "tools = [mock_tool]\n",
    "kwargs = {'custom_arg': 'test_value'}\n",
    "\n",
    "import inspect\n",
    "\n",
    "def _prepare_tools(tools, llm):\n",
    "    \"\"\"\n",
    "    If a tool has a \"prepare\" method, \n",
    "    set its arguments with the arguments from kwargs that match\n",
    "\n",
    "    Args:\n",
    "        tools (_type_): _description_\n",
    "        llm (_type_): _description_\n",
    "\n",
    "    Returns:\n",
    "        _type_: _description_\n",
    "    \"\"\"\n",
    "    prepared_tools = []\n",
    "    for tool in tools:\n",
    "        if callable(getattr(tool, 'prepare', None)):\n",
    "            # Get the parameters of the prepare method\n",
    "            prepare_params = inspect.signature(tool.prepare).parameters\n",
    "            # Filter kwargs to only include those that mathc prepare's parameters\n",
    "            filtered_kwargs = {k: v for k, v in kwargs.items() if k in prepare_params}\n",
    "            prepared_tool = tool.prepare(**filtered_kwargs)\n",
    "        else:\n",
    "            prepared_tool = tool\n",
    "        prepared_tools.append(prepared_tool)\n",
    "    return load_tools([], llm=llm) + prepared_tools\n",
    "\n"
   ]
  },
  {
   "cell_type": "code",
   "execution_count": 11,
   "metadata": {},
   "outputs": [],
   "source": [
    "prepared_tools = _prepare_tools(tools=tools, llm=mock_llm)"
   ]
  },
  {
   "cell_type": "code",
   "execution_count": 13,
   "metadata": {},
   "outputs": [],
   "source": [
    "from langchain_mistralai import ChatMistralAI\n",
    "from langchain_aws import ChatBedrock\n",
    "# Define the Bedrock client using LangChain\n",
    "#llm = ChatMistralAI(\n",
    "#    model=\"mistral-small-latest\"\n",
    "#  )  # Replace with the specific Bedrock model you want to use\n",
    "\n",
    "llm = ChatBedrock(\n",
    "    model_id = \"meta.llama3-8b-instruct-v1:0\",\n",
    "    region_name='us-east-1',\n",
    "    model_kwargs = {\n",
    "        'temperature': 0\n",
    "    }\n",
    ")\n"
   ]
  },
  {
   "cell_type": "code",
   "execution_count": 14,
   "metadata": {},
   "outputs": [],
   "source": [
    "from langchain.agents import AgentType\n",
    "from langgraph.graph import START, END\n",
    "\n",
    "# Define tools for each operation\n",
    "def add(a, b):\n",
    "    return a + b\n",
    "\n",
    "def subtract(a, b):\n",
    "    return a - b\n",
    "\n",
    "def multiply(a, b):\n",
    "    return a * b\n",
    "\n",
    "\n",
    "add_tool = InternalTool(\n",
    "        name=\"Addition\",\n",
    "        description=\"Add two numbers together\",\n",
    "        function=add\n",
    "    )\n",
    "\n",
    "subtract_tool = InternalTool(\n",
    "        name=\"SubtractTool\",\n",
    "        description=\"Subtract two numbers\",\n",
    "        function=subtract\n",
    "    )\n",
    "\n",
    "multiply_tool = InternalTool(\n",
    "        name=\"ExampleTool\",\n",
    "        description=\"An example tool for testing\",\n",
    "        function=multiply\n",
    "    )\n",
    "\n",
    "# Create CustomAgent instances\n",
    "add_agent = CustomAgent(\"AddAgent\", llm, [add_tool], AgentType.ZERO_SHOT_REACT_DESCRIPTION)\n",
    "subtract_agent = CustomAgent(\"SubtractAgent\", llm, [subtract_tool], AgentType.ZERO_SHOT_REACT_DESCRIPTION)\n",
    "multiply_agent = CustomAgent(\"MultiplyAgent\", llm, [multiply_tool], AgentType.ZERO_SHOT_REACT_DESCRIPTION)\n",
    "\n"
   ]
  },
  {
   "cell_type": "code",
   "execution_count": 15,
   "metadata": {},
   "outputs": [],
   "source": [
    "def make_available_nodes(nodes):\n",
    "    available_nodes = {node.name: node for node in nodes}\n",
    "    available_nodes['START'] = START\n",
    "    available_nodes['END'] = END\n",
    "    return available_nodes\n",
    "available_nodes = make_available_nodes([add_agent, subtract_agent, multiply_agent])"
   ]
  },
  {
   "cell_type": "code",
   "execution_count": 16,
   "metadata": {},
   "outputs": [],
   "source": [
    "outline = {'START': ['AddAgent', 'SubtractAgent'],\n",
    "           'AddAgent': ['MultiplyAgent', 'END'],\n",
    "           'SubtractAgent': ['MultiplyAgent', 'END'],\n",
    "           'MultiplyAgent': ['END']}"
   ]
  },
  {
   "cell_type": "code",
   "execution_count": 17,
   "metadata": {},
   "outputs": [
    {
     "data": {
      "text/plain": [
       "{'AddAgent': <scripts.agents.CustomAgent at 0x22d57962c30>,\n",
       " 'SubtractAgent': <scripts.agents.CustomAgent at 0x22d55d288f0>,\n",
       " 'MultiplyAgent': <scripts.agents.CustomAgent at 0x22d55d283e0>,\n",
       " 'START': '__start__',\n",
       " 'END': '__end__'}"
      ]
     },
     "execution_count": 17,
     "metadata": {},
     "output_type": "execute_result"
    }
   ],
   "source": [
    "available_nodes"
   ]
  },
  {
   "cell_type": "code",
   "execution_count": 1,
   "metadata": {},
   "outputs": [
    {
     "ename": "NameError",
     "evalue": "name 'CustomGraph' is not defined",
     "output_type": "error",
     "traceback": [
      "\u001b[1;31m---------------------------------------------------------------------------\u001b[0m",
      "\u001b[1;31mNameError\u001b[0m                                 Traceback (most recent call last)",
      "Cell \u001b[1;32mIn[1], line 1\u001b[0m\n\u001b[1;32m----> 1\u001b[0m graph \u001b[38;5;241m=\u001b[39m \u001b[43mCustomGraph\u001b[49m(outline\u001b[38;5;241m=\u001b[39moutline)\n\u001b[0;32m      2\u001b[0m graph\u001b[38;5;241m.\u001b[39mcreate_graph(available_nodes\u001b[38;5;241m=\u001b[39mavailable_nodes)\n",
      "\u001b[1;31mNameError\u001b[0m: name 'CustomGraph' is not defined"
     ]
    }
   ],
   "source": [
    "graph = CustomGraph(outline=outline)\n",
    "graph.create_graph(available_nodes=available_nodes)"
   ]
  },
  {
   "cell_type": "code",
   "execution_count": 5,
   "metadata": {},
   "outputs": [
    {
     "ename": "NameError",
     "evalue": "name 'graph' is not defined",
     "output_type": "error",
     "traceback": [
      "\u001b[1;31m---------------------------------------------------------------------------\u001b[0m",
      "\u001b[1;31mNameError\u001b[0m                                 Traceback (most recent call last)",
      "Cell \u001b[1;32mIn[5], line 2\u001b[0m\n\u001b[0;32m      1\u001b[0m \u001b[38;5;28minput\u001b[39m \u001b[38;5;241m=\u001b[39m (\u001b[38;5;124m\"\u001b[39m\u001b[38;5;124mAdd 3 and 4, then multiply the result by 2\u001b[39m\u001b[38;5;124m\"\u001b[39m)\n\u001b[1;32m----> 2\u001b[0m \u001b[43mgraph\u001b[49m\u001b[38;5;241m.\u001b[39mgraph({\u001b[38;5;124m\"\u001b[39m\u001b[38;5;124minput\u001b[39m\u001b[38;5;124m\"\u001b[39m: \u001b[38;5;28minput\u001b[39m})\n",
      "\u001b[1;31mNameError\u001b[0m: name 'graph' is not defined"
     ]
    }
   ],
   "source": [
    "input = (\"Add 3 and 4, then multiply the result by 2\")\n",
    "graph.graph({\"input\": input})"
   ]
  },
  {
   "cell_type": "code",
   "execution_count": 6,
   "metadata": {},
   "outputs": [
    {
     "ename": "NameError",
     "evalue": "name 'graph' is not defined",
     "output_type": "error",
     "traceback": [
      "\u001b[1;31m---------------------------------------------------------------------------\u001b[0m",
      "\u001b[1;31mNameError\u001b[0m                                 Traceback (most recent call last)",
      "Cell \u001b[1;32mIn[6], line 1\u001b[0m\n\u001b[1;32m----> 1\u001b[0m \u001b[43mgraph\u001b[49m\u001b[38;5;241m.\u001b[39mgraph\n",
      "\u001b[1;31mNameError\u001b[0m: name 'graph' is not defined"
     ]
    }
   ],
   "source": [
    "graph.graph"
   ]
  },
  {
   "cell_type": "code",
   "execution_count": null,
   "metadata": {},
   "outputs": [],
   "source": []
  },
  {
   "cell_type": "code",
   "execution_count": 7,
   "metadata": {},
   "outputs": [
    {
     "ename": "NameError",
     "evalue": "name 'graph' is not defined",
     "output_type": "error",
     "traceback": [
      "\u001b[1;31m---------------------------------------------------------------------------\u001b[0m",
      "\u001b[1;31mNameError\u001b[0m                                 Traceback (most recent call last)",
      "Cell \u001b[1;32mIn[7], line 6\u001b[0m\n\u001b[0;32m      1\u001b[0m \u001b[38;5;28;01mfrom\u001b[39;00m \u001b[38;5;21;01mlangchain_core\u001b[39;00m\u001b[38;5;21;01m.\u001b[39;00m\u001b[38;5;21;01mmessages\u001b[39;00m \u001b[38;5;28;01mimport\u001b[39;00m (\n\u001b[0;32m      2\u001b[0m     BaseMessage,\n\u001b[0;32m      3\u001b[0m     HumanMessage,\n\u001b[0;32m      4\u001b[0m     ToolMessage,\n\u001b[0;32m      5\u001b[0m )\n\u001b[1;32m----> 6\u001b[0m events \u001b[38;5;241m=\u001b[39m \u001b[43mgraph\u001b[49m\u001b[38;5;241m.\u001b[39mgraph\u001b[38;5;241m.\u001b[39mstream(\n\u001b[0;32m      7\u001b[0m     {\n\u001b[0;32m      8\u001b[0m         \u001b[38;5;124m\"\u001b[39m\u001b[38;5;124mmessages\u001b[39m\u001b[38;5;124m\"\u001b[39m: [\n\u001b[0;32m      9\u001b[0m             HumanMessage(\n\u001b[0;32m     10\u001b[0m                 content\u001b[38;5;241m=\u001b[39m\u001b[38;5;124m\"\u001b[39m\u001b[38;5;124mFetch the UK\u001b[39m\u001b[38;5;124m'\u001b[39m\u001b[38;5;124ms GDP over the past 5 years,\u001b[39m\u001b[38;5;124m\"\u001b[39m\n\u001b[0;32m     11\u001b[0m                 \u001b[38;5;124m\"\u001b[39m\u001b[38;5;124m then draw a line graph of it.\u001b[39m\u001b[38;5;124m\"\u001b[39m\n\u001b[0;32m     12\u001b[0m                 \u001b[38;5;124m\"\u001b[39m\u001b[38;5;124m Once you code it up, finish.\u001b[39m\u001b[38;5;124m\"\u001b[39m\n\u001b[0;32m     13\u001b[0m             )\n\u001b[0;32m     14\u001b[0m         ],\n\u001b[0;32m     15\u001b[0m     },\n\u001b[0;32m     16\u001b[0m     \u001b[38;5;66;03m# Maximum number of steps to take in the graph\u001b[39;00m\n\u001b[0;32m     17\u001b[0m     {\u001b[38;5;124m\"\u001b[39m\u001b[38;5;124mrecursion_limit\u001b[39m\u001b[38;5;124m\"\u001b[39m: \u001b[38;5;241m150\u001b[39m},\n\u001b[0;32m     18\u001b[0m )\n",
      "\u001b[1;31mNameError\u001b[0m: name 'graph' is not defined"
     ]
    }
   ],
   "source": [
    "from langchain_core.messages import (\n",
    "    BaseMessage,\n",
    "    HumanMessage,\n",
    "    ToolMessage,\n",
    ")\n",
    "events = graph.graph.stream(\n",
    "    {\n",
    "        \"messages\": [\n",
    "            HumanMessage(\n",
    "                content=\"Fetch the UK's GDP over the past 5 years,\"\n",
    "                \" then draw a line graph of it.\"\n",
    "                \" Once you code it up, finish.\"\n",
    "            )\n",
    "        ],\n",
    "    },\n",
    "    # Maximum number of steps to take in the graph\n",
    "    {\"recursion_limit\": 150},\n",
    ")"
   ]
  },
  {
   "cell_type": "code",
   "execution_count": 8,
   "metadata": {},
   "outputs": [],
   "source": [
    "\n",
    "messages = [\n",
    "    (\n",
    "        \"system\",\n",
    "        \"You are a helpful assistant that translates English to French. Translate the user sentence.\",\n",
    "    ),\n",
    "    (\"human\", \"I love programming.\"),\n",
    "]\n",
    "# Run a sample query\n",
    "#response = llm.invoke(messages)\n",
    "#print(response)\n"
   ]
  },
  {
   "cell_type": "code",
   "execution_count": 9,
   "metadata": {},
   "outputs": [
    {
     "ename": "NameError",
     "evalue": "name 'llm' is not defined",
     "output_type": "error",
     "traceback": [
      "\u001b[1;31m---------------------------------------------------------------------------\u001b[0m",
      "\u001b[1;31mNameError\u001b[0m                                 Traceback (most recent call last)",
      "Cell \u001b[1;32mIn[9], line 6\u001b[0m\n\u001b[0;32m      1\u001b[0m \u001b[38;5;28;01mfrom\u001b[39;00m \u001b[38;5;21;01mlangchain\u001b[39;00m\u001b[38;5;21;01m.\u001b[39;00m\u001b[38;5;21;01magents\u001b[39;00m \u001b[38;5;28;01mimport\u001b[39;00m AgentType\n\u001b[0;32m      4\u001b[0m agent \u001b[38;5;241m=\u001b[39m CustomAgent(\n\u001b[0;32m      5\u001b[0m         name\u001b[38;5;241m=\u001b[39m\u001b[38;5;124m\"\u001b[39m\u001b[38;5;124mTestAgent\u001b[39m\u001b[38;5;124m\"\u001b[39m,\n\u001b[1;32m----> 6\u001b[0m         llm\u001b[38;5;241m=\u001b[39m\u001b[43mllm\u001b[49m,\n\u001b[0;32m      7\u001b[0m         tools\u001b[38;5;241m=\u001b[39m[mock_tool],\n\u001b[0;32m      8\u001b[0m         agent_type\u001b[38;5;241m=\u001b[39mAgentType\u001b[38;5;241m.\u001b[39mZERO_SHOT_REACT_DESCRIPTION,\n\u001b[0;32m      9\u001b[0m         verbose\u001b[38;5;241m=\u001b[39m\u001b[38;5;28;01mFalse\u001b[39;00m,\n\u001b[0;32m     10\u001b[0m         custom_arg\u001b[38;5;241m=\u001b[39m\u001b[38;5;124m\"\u001b[39m\u001b[38;5;124mtest_value\u001b[39m\u001b[38;5;124m\"\u001b[39m\n\u001b[0;32m     11\u001b[0m     )\n",
      "\u001b[1;31mNameError\u001b[0m: name 'llm' is not defined"
     ]
    }
   ],
   "source": [
    "from langchain.agents import AgentType\n",
    "\n",
    "\n",
    "agent = CustomAgent(\n",
    "        name=\"TestAgent\",\n",
    "        llm=llm,\n",
    "        tools=[mock_tool],\n",
    "        agent_type=AgentType.ZERO_SHOT_REACT_DESCRIPTION,\n",
    "        verbose=False,\n",
    "        custom_arg=\"test_value\"\n",
    "    )"
   ]
  },
  {
   "cell_type": "code",
   "execution_count": null,
   "metadata": {},
   "outputs": [],
   "source": []
  },
  {
   "cell_type": "code",
   "execution_count": 10,
   "metadata": {},
   "outputs": [
    {
     "ename": "NameError",
     "evalue": "name 'agent' is not defined",
     "output_type": "error",
     "traceback": [
      "\u001b[1;31m---------------------------------------------------------------------------\u001b[0m",
      "\u001b[1;31mNameError\u001b[0m                                 Traceback (most recent call last)",
      "Cell \u001b[1;32mIn[10], line 1\u001b[0m\n\u001b[1;32m----> 1\u001b[0m \u001b[43magent\u001b[49m\u001b[38;5;241m.\u001b[39mtools\n",
      "\u001b[1;31mNameError\u001b[0m: name 'agent' is not defined"
     ]
    }
   ],
   "source": [
    "agent.tools"
   ]
  },
  {
   "cell_type": "code",
   "execution_count": 11,
   "metadata": {},
   "outputs": [
    {
     "ename": "NameError",
     "evalue": "name 'agent' is not defined",
     "output_type": "error",
     "traceback": [
      "\u001b[1;31m---------------------------------------------------------------------------\u001b[0m",
      "\u001b[1;31mNameError\u001b[0m                                 Traceback (most recent call last)",
      "Cell \u001b[1;32mIn[11], line 16\u001b[0m\n\u001b[0;32m      1\u001b[0m NodeState \u001b[38;5;241m=\u001b[39m {\n\u001b[0;32m      2\u001b[0m     \u001b[38;5;124m\"\u001b[39m\u001b[38;5;124mmessages\u001b[39m\u001b[38;5;124m\"\u001b[39m: [\n\u001b[0;32m      3\u001b[0m         {\u001b[38;5;124m\"\u001b[39m\u001b[38;5;124mrole\u001b[39m\u001b[38;5;124m\"\u001b[39m: \u001b[38;5;124m\"\u001b[39m\u001b[38;5;124muser\u001b[39m\u001b[38;5;124m\"\u001b[39m, \u001b[38;5;124m\"\u001b[39m\u001b[38;5;124mcontent\u001b[39m\u001b[38;5;124m\"\u001b[39m: \u001b[38;5;124m\"\u001b[39m\u001b[38;5;124mHello, I need help with my project.\u001b[39m\u001b[38;5;124m\"\u001b[39m},\n\u001b[1;32m   (...)\u001b[0m\n\u001b[0;32m     14\u001b[0m     \u001b[38;5;124m\"\u001b[39m\u001b[38;5;124mfinished\u001b[39m\u001b[38;5;124m\"\u001b[39m: \u001b[38;5;28;01mFalse\u001b[39;00m\n\u001b[0;32m     15\u001b[0m }\n\u001b[1;32m---> 16\u001b[0m \u001b[43magent\u001b[49m\u001b[38;5;241m.\u001b[39minvoke(query\u001b[38;5;241m=\u001b[39mNodeState)\n",
      "\u001b[1;31mNameError\u001b[0m: name 'agent' is not defined"
     ]
    }
   ],
   "source": [
    "NodeState = {\n",
    "    \"messages\": [\n",
    "        {\"role\": \"user\", \"content\": \"Hello, I need help with my project.\"},\n",
    "        {\"role\": \"assistant\", \"content\": \"Sure, I'd be happy to help. What's your project about?\"}\n",
    "    ],\n",
    "    \"current_agent\": \"project_manager\",\n",
    "    \"available_nodes\": [\"developer\", \"designer\", \"qa_tester\"],\n",
    "    \"node_types\": {\n",
    "        \"project_manager\": \"management\",\n",
    "        \"developer\": \"technical\",\n",
    "        \"designer\": \"creative\",\n",
    "        \"qa_tester\": \"quality_assurance\"\n",
    "    },\n",
    "    \"finished\": False\n",
    "}\n",
    "agent.invoke(query=NodeState)"
   ]
  },
  {
   "cell_type": "code",
   "execution_count": null,
   "metadata": {},
   "outputs": [],
   "source": []
  }
 ],
 "metadata": {
  "kernelspec": {
   "display_name": "llm_hub",
   "language": "python",
   "name": "python3"
  },
  "language_info": {
   "codemirror_mode": {
    "name": "ipython",
    "version": 3
   },
   "file_extension": ".py",
   "mimetype": "text/x-python",
   "name": "python",
   "nbconvert_exporter": "python",
   "pygments_lexer": "ipython3",
   "version": "3.12.4"
  }
 },
 "nbformat": 4,
 "nbformat_minor": 2
}
