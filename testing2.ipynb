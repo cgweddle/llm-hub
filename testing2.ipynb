{
 "cells": [
  {
   "cell_type": "code",
   "execution_count": 1,
   "metadata": {},
   "outputs": [
    {
     "name": "stderr",
     "output_type": "stream",
     "text": [
      "c:\\Users\\cgwed\\anaconda3\\envs\\llm_hub\\Lib\\site-packages\\pydantic\\_internal\\_generate_schema.py:547: UserWarning: <built-in function callable> is not a Python type (it may be an instance of an object), Pydantic will allow any object with no validation since we cannot even enforce that the input is an instance of the given type. To get rid of this error wrap the type with `pydantic.SkipValidation`.\n",
      "  warn(\n"
     ]
    }
   ],
   "source": [
    "%load_ext autoreload\n",
    "%autoreload 2\n",
    "from scripts.agents import Tool, InternalTool, CustomAgent, CustomGraph, InternalToolInput\n",
    "from dotenv import load_dotenv\n",
    "load_dotenv()\n",
    "\n"
   ]
  },
  {
   "cell_type": "code",
   "execution_count": 2,
   "metadata": {},
   "outputs": [],
   "source": [
    "from langchain_mistralai import ChatMistralAI\n",
    "from langchain_aws import ChatBedrock\n",
    "# Define the Bedrock client using LangChain\n",
    "#llm = ChatMistralAI(\n",
    "#    model=\"mistral-small-latest\"\n",
    "#  )  # Replace with the specific Bedrock model you want to use\n",
    "\n",
    "llm = ChatBedrock(\n",
    "    model_id = \"meta.llama3-8b-instruct-v1:0\",\n",
    "    region_name='us-east-1',\n",
    "    model_kwargs = {\n",
    "        'temperature': 0\n",
    "    }\n",
    ")\n",
    "\n",
    "\n",
    "from langchain.agents import AgentType\n",
    "from langgraph.graph import START, END\n",
    "\n",
    "# Define tools for each operation\n",
    "def add(a, b):\n",
    "    return a + b\n",
    "\n",
    "def subtract(a, b):\n",
    "    return a - b\n",
    "\n",
    "def multiply(a, b):\n",
    "    return a * b\n",
    "\n",
    "\n",
    "\n",
    "add_tool = InternalTool(\n",
    "        name=\"Addition\",\n",
    "        description=\"Add two numbers together\",\n",
    "        function=add\n",
    "    )\n",
    "\n",
    "subtract_tool = InternalTool(\n",
    "        name=\"SubtractTool\",\n",
    "        description=\"Subtract two numbers\",\n",
    "        function=subtract\n",
    "    )\n",
    "\n",
    "multiply_tool = InternalTool(\n",
    "        name=\"ExampleTool\",\n",
    "        description=\"An example tool for testing\",\n",
    "        function=multiply\n",
    "    )\n",
    "\n",
    "#start_agent = CustomAgent(\"StartAgent\", llm, [start_tool], \n",
    "\n",
    "# Create CustomAgent instances\n",
    "add_agent = CustomAgent(\"AddAgent\", llm, [add_tool], AgentType.ZERO_SHOT_REACT_DESCRIPTION)\n",
    "subtract_agent = CustomAgent(\"SubtractAgent\", llm, [subtract_tool], AgentType.ZERO_SHOT_REACT_DESCRIPTION)\n",
    "multiply_agent = CustomAgent(\"MultiplyAgent\", llm, [multiply_tool], AgentType.ZERO_SHOT_REACT_DESCRIPTION)\n",
    "\n",
    "def make_available_nodes(nodes):\n",
    "    available_nodes = {node.name: node for node in nodes}\n",
    "    #available_nodes['START'] = START\n",
    "    #available_nodes['END'] = END\n",
    "    return available_nodes\n",
    "available_nodes = make_available_nodes([add_agent, subtract_agent, multiply_agent])\n",
    "start_agent = 'AddAgent'\n",
    "end_agents = ['AddAgent', 'SubtractAgent', 'MultiplyAgent']\n",
    "outline = {'START': ['AddAgent'],\n",
    "           'AddAgent': ['SubtractAgent', 'MultiplyAgent', 'END'],\n",
    "           'SubtractAgent': ['AddAgent', 'MultiplyAgent', 'END'],\n",
    "           'MultiplyAgent': ['SubtractAgent', 'AddAgent', 'END']}\n"
   ]
  },
  {
   "cell_type": "code",
   "execution_count": 3,
   "metadata": {},
   "outputs": [
    {
     "name": "stderr",
     "output_type": "stream",
     "text": [
      "2025-01-28 20:10:44,368 - scripts.agents - DEBUG - Adding Nodes\n",
      "2025-01-28 20:10:44,369 - scripts.agents - DEBUG - Getting node AddAgent\n",
      "2025-01-28 20:10:44,369 - scripts.agents - DEBUG - Adding node AddAgent to workflow\n",
      "2025-01-28 20:10:44,371 - scripts.agents - DEBUG - Getting node SubtractAgent\n",
      "2025-01-28 20:10:44,372 - scripts.agents - DEBUG - Adding node SubtractAgent to workflow\n",
      "2025-01-28 20:10:44,373 - scripts.agents - DEBUG - Getting node MultiplyAgent\n",
      "2025-01-28 20:10:44,374 - scripts.agents - DEBUG - Adding node MultiplyAgent to workflow\n",
      "2025-01-28 20:10:44,375 - scripts.agents - DEBUG - Start Node: AddAgent\n",
      "2025-01-28 20:10:44,375 - scripts.agents - DEBUG - Adding Edges\n",
      "2025-01-28 20:10:44,376 - scripts.agents - DEBUG - Adding edge from START to AddAgent\n",
      "2025-01-28 20:10:44,377 - scripts.agents - DEBUG - Processing edges for AddAgent\n",
      "2025-01-28 20:10:44,378 - scripts.agents - DEBUG - Adding edge connecting AddAgent to other nodes\n",
      "2025-01-28 20:10:44,379 - scripts.agents - DEBUG - Adding additoinal log info here\n",
      "2025-01-28 20:10:44,380 - scripts.agents - DEBUG - Adding conditional edges from AddAgent\n",
      "2025-01-28 20:10:44,381 - scripts.agents - DEBUG - Processing edges for SubtractAgent\n",
      "2025-01-28 20:10:44,382 - scripts.agents - DEBUG - Adding edge connecting SubtractAgent to other nodes\n",
      "2025-01-28 20:10:44,383 - scripts.agents - DEBUG - Adding additoinal log info here\n",
      "2025-01-28 20:10:44,384 - scripts.agents - DEBUG - Adding conditional edges from SubtractAgent\n",
      "2025-01-28 20:10:44,385 - scripts.agents - DEBUG - Processing edges for MultiplyAgent\n",
      "2025-01-28 20:10:44,386 - scripts.agents - DEBUG - Adding edge connecting MultiplyAgent to other nodes\n",
      "2025-01-28 20:10:44,386 - scripts.agents - DEBUG - Adding additoinal log info here\n",
      "2025-01-28 20:10:44,387 - scripts.agents - DEBUG - Adding conditional edges from MultiplyAgent\n"
     ]
    }
   ],
   "source": [
    "graph = CustomGraph(outline=outline)\n",
    "graph.create_graph(available_nodes=available_nodes)"
   ]
  },
  {
   "cell_type": "code",
   "execution_count": 4,
   "metadata": {},
   "outputs": [
    {
     "data": {
      "text/plain": [
       "'\\ncurrent_node = \"START\"\\nwhile current_node != \"END\":\\n    print(f\"Current Node: {current_node}\")\\n    state = graph.graph.invoke(current_node, state)\\n    print(f\"Messages: {state[\\'messages\\']}\")\\n    current_node = state[\"current_agent\"]\\n\\nprint(\"Workflow completed.\")\\n'"
      ]
     },
     "execution_count": 4,
     "metadata": {},
     "output_type": "execute_result"
    }
   ],
   "source": [
    "state = {\n",
    "    \"messages\": [{\"agent\": \"START\", \"content\": \"5 10 20\"}],  # User input\n",
    "    \"current_agent\": \"START\",\n",
    "    \"available_nodes\": [\"AddAgent\", \"SubtractAgent\"],\n",
    "    \"node_types\": {\"AddAgent\": \"agent\", \"SubtractAgent\": \"agent\", \"MultiplyAgent\": \"agent\", \"END\": \"end\"},\n",
    "    \"finished\": False,\n",
    "}\n",
    "\n",
    "#from langchain_core.messages import HumanMessage\n",
    "#result = graph.graph.invoke(HumanMessage(\"5 10 20\"))\n",
    "# Execute the workflow\n",
    "\"\"\"\n",
    "current_node = \"START\"\n",
    "while current_node != \"END\":\n",
    "    print(f\"Current Node: {current_node}\")\n",
    "    state = graph.graph.invoke(current_node, state)\n",
    "    print(f\"Messages: {state['messages']}\")\n",
    "    current_node = state[\"current_agent\"]\n",
    "\n",
    "print(\"Workflow completed.\")\n",
    "\"\"\""
   ]
  },
  {
   "cell_type": "code",
   "execution_count": 10,
   "metadata": {},
   "outputs": [],
   "source": [
    "\n",
    "from langchain_core.messages import HumanMessage\n",
    "from scripts.agents import NodeState\n",
    "message = 'Solve this problem: (2+3)-4*8'\n",
    "initial_state = NodeState(\n",
    "    messages = [HumanMessage(content=message, role=\"user\")],\n",
    "    current_node=\"AddAgent\",\n",
    "    available_nodes=[\"MultiplyAgent\", \"SubtractAgent\"],\n",
    "    finished=False\n",
    ")\n",
    "#result = graph.graph.invoke(initial_state)\n"
   ]
  },
  {
   "cell_type": "code",
   "execution_count": 11,
   "metadata": {},
   "outputs": [
    {
     "data": {
      "text/plain": [
       "Graph(nodes={'__start__': Node(id='__start__', name='__start__', data=<class 'langchain_core.utils.pydantic.LangGraphInput'>, metadata=None), 'AddAgent': Node(id='AddAgent', name='AddAgent', data=AddAgent(tags=None, recurse=True, func_accepts_config=False, func_accepts={'writer': False, 'store': False}), metadata=None), 'SubtractAgent': Node(id='SubtractAgent', name='SubtractAgent', data=SubtractAgent(tags=None, recurse=True, func_accepts_config=False, func_accepts={'writer': False, 'store': False}), metadata=None), 'MultiplyAgent': Node(id='MultiplyAgent', name='MultiplyAgent', data=MultiplyAgent(tags=None, recurse=True, func_accepts_config=False, func_accepts={'writer': False, 'store': False}), metadata=None), '__end__': Node(id='__end__', name='__end__', data=<class 'langchain_core.utils.pydantic.LangGraphOutput'>, metadata=None)}, edges=[Edge(source='__start__', target='AddAgent', data=None, conditional=False), Edge(source='AddAgent', target='SubtractAgent', data=None, conditional=True), Edge(source='AddAgent', target='MultiplyAgent', data=None, conditional=True), Edge(source='AddAgent', target='__end__', data='END', conditional=True), Edge(source='SubtractAgent', target='AddAgent', data=None, conditional=True), Edge(source='SubtractAgent', target='MultiplyAgent', data=None, conditional=True), Edge(source='SubtractAgent', target='__end__', data='END', conditional=True), Edge(source='MultiplyAgent', target='SubtractAgent', data=None, conditional=True), Edge(source='MultiplyAgent', target='AddAgent', data=None, conditional=True), Edge(source='MultiplyAgent', target='__end__', data='END', conditional=True)])"
      ]
     },
     "execution_count": 11,
     "metadata": {},
     "output_type": "execute_result"
    }
   ],
   "source": [
    "graph.graph.get_graph()"
   ]
  },
  {
   "cell_type": "code",
   "execution_count": 12,
   "metadata": {},
   "outputs": [
    {
     "data": {
      "text/plain": [
       "{'messages': [HumanMessage(content='Solve this problem: (2+3)-4*8', additional_kwargs={}, response_metadata={}, role='user')],\n",
       " 'current_node': 'AddAgent',\n",
       " 'available_nodes': ['MultiplyAgent', 'SubtractAgent'],\n",
       " 'finished': False}"
      ]
     },
     "execution_count": 12,
     "metadata": {},
     "output_type": "execute_result"
    }
   ],
   "source": [
    "initial_state"
   ]
  },
  {
   "cell_type": "code",
   "execution_count": 13,
   "metadata": {},
   "outputs": [
    {
     "data": {
      "text/plain": [
       "'Solve this problem: (2+3)-4*8'"
      ]
     },
     "execution_count": 13,
     "metadata": {},
     "output_type": "execute_result"
    }
   ],
   "source": [
    "initial_state['messages'][-1].content"
   ]
  },
  {
   "cell_type": "code",
   "execution_count": 15,
   "metadata": {},
   "outputs": [
    {
     "name": "stderr",
     "output_type": "stream",
     "text": [
      "2025-01-28 20:44:03,855 - scripts.agents - DEBUG - Processing for Node MultiplyAgent\n",
      "2025-01-28 20:44:03,857 - scripts.agents - DEBUG - Input State: {'messages': [HumanMessage(content='Solve this problem: (2+3)-4*8', additional_kwargs={}, response_metadata={}, role='user')]}\n",
      "2025-01-28 20:44:03,858 - scripts.agents - DEBUG - Invoking MultiplyAgent\n",
      "2025-01-28 20:44:05,750 - scripts.agents - DEBUG - Reuslt of MultiplyAgent invocation: {'messages': [HumanMessage(content='Solve this problem: (2+3)-4*8', additional_kwargs={}, response_metadata={}, id='5fc0167f-af22-4e06-a0a7-e9f02a0ba22f', role='user'), AIMessage(content='To solve this problem, we need to follow the order of operations (PEMDAS):\\n\\n1. Evaluate the expressions inside the parentheses: 2+3 = 5\\n2. Multiply 4 and 8: 4*8 = 32\\n3. Subtract 32 from 5: 5 - 32 = -27\\n\\nSo the final answer is -27.', additional_kwargs={'usage': {'prompt_tokens': 24, 'completion_tokens': 79, 'total_tokens': 103}, 'stop_reason': 'stop', 'model_id': 'meta.llama3-8b-instruct-v1:0'}, response_metadata={'usage': {'prompt_tokens': 24, 'completion_tokens': 79, 'total_tokens': 103}, 'stop_reason': 'stop', 'model_id': 'meta.llama3-8b-instruct-v1:0'}, id='run-5a55803a-82cb-455e-aa5b-1a370662f7c7-0', usage_metadata={'input_tokens': 24, 'output_tokens': 79, 'total_tokens': 103})]}\n",
      "2025-01-28 20:44:05,754 - scripts.agents - DEBUG - Output Message: {'messages': [HumanMessage(content='Solve this problem: (2+3)-4*8', additional_kwargs={}, response_metadata={}, id='5fc0167f-af22-4e06-a0a7-e9f02a0ba22f', role='user'), AIMessage(content='To solve this problem, we need to follow the order of operations (PEMDAS):\\n\\n1. Evaluate the expressions inside the parentheses: 2+3 = 5\\n2. Multiply 4 and 8: 4*8 = 32\\n3. Subtract 32 from 5: 5 - 32 = -27\\n\\nSo the final answer is -27.', additional_kwargs={'usage': {'prompt_tokens': 24, 'completion_tokens': 79, 'total_tokens': 103}, 'stop_reason': 'stop', 'model_id': 'meta.llama3-8b-instruct-v1:0'}, response_metadata={'usage': {'prompt_tokens': 24, 'completion_tokens': 79, 'total_tokens': 103}, 'stop_reason': 'stop', 'model_id': 'meta.llama3-8b-instruct-v1:0'}, id='run-5a55803a-82cb-455e-aa5b-1a370662f7c7-0', usage_metadata={'input_tokens': 24, 'output_tokens': 79, 'total_tokens': 103})]}\n",
      "2025-01-28 20:44:05,754 - scripts.agents - DEBUG - Output finished: False\n",
      "2025-01-28 20:44:05,754 - scripts.agents - DEBUG - Nodestate: dict_keys(['messages', 'current_node', 'available_nodes', 'finished'])\n",
      "2025-01-28 20:44:05,754 - scripts.agents - DEBUG - Starting router\n",
      "2025-01-28 20:44:05,754 - scripts.agents - DEBUG - Checking available nodes\n",
      "2025-01-28 20:44:05,754 - scripts.agents - DEBUG - Finished checking available nodes\n",
      "2025-01-28 20:44:05,754 - scripts.agents - DEBUG - Available nodes: SubtractAgent\n",
      "2025-01-28 20:44:05,760 - scripts.agents - DEBUG - Last Message: content='To solve this problem, we need to follow the order of operations (PEMDAS):\\n\\n1. Evaluate the expressions inside the parentheses: 2+3 = 5\\n2. Multiply 4 and 8: 4*8 = 32\\n3. Subtract 32 from 5: 5 - 32 = -27\\n\\nSo the final answer is -27.' additional_kwargs={'usage': {'prompt_tokens': 24, 'completion_tokens': 79, 'total_tokens': 103}, 'stop_reason': 'stop', 'model_id': 'meta.llama3-8b-instruct-v1:0'} response_metadata={'usage': {'prompt_tokens': 24, 'completion_tokens': 79, 'total_tokens': 103}, 'stop_reason': 'stop', 'model_id': 'meta.llama3-8b-instruct-v1:0'} id='run-5a55803a-82cb-455e-aa5b-1a370662f7c7-0' usage_metadata={'input_tokens': 24, 'output_tokens': 79, 'total_tokens': 103}\n",
      "2025-01-28 20:44:05,762 - scripts.agents - DEBUG - Last message type: <class 'langchain_core.messages.ai.AIMessage'>\n",
      "2025-01-28 20:44:05,762 - scripts.agents - DEBUG - Available nodes: AddAgent\n",
      "2025-01-28 20:44:05,762 - scripts.agents - DEBUG - Last Message: content='To solve this problem, we need to follow the order of operations (PEMDAS):\\n\\n1. Evaluate the expressions inside the parentheses: 2+3 = 5\\n2. Multiply 4 and 8: 4*8 = 32\\n3. Subtract 32 from 5: 5 - 32 = -27\\n\\nSo the final answer is -27.' additional_kwargs={'usage': {'prompt_tokens': 24, 'completion_tokens': 79, 'total_tokens': 103}, 'stop_reason': 'stop', 'model_id': 'meta.llama3-8b-instruct-v1:0'} response_metadata={'usage': {'prompt_tokens': 24, 'completion_tokens': 79, 'total_tokens': 103}, 'stop_reason': 'stop', 'model_id': 'meta.llama3-8b-instruct-v1:0'} id='run-5a55803a-82cb-455e-aa5b-1a370662f7c7-0' usage_metadata={'input_tokens': 24, 'output_tokens': 79, 'total_tokens': 103}\n",
      "2025-01-28 20:44:05,762 - scripts.agents - DEBUG - Last message type: <class 'langchain_core.messages.ai.AIMessage'>\n",
      "2025-01-28 20:44:05,762 - scripts.agents - DEBUG - Available nodes: END\n",
      "2025-01-28 20:44:05,762 - scripts.agents - DEBUG - Last Message: content='To solve this problem, we need to follow the order of operations (PEMDAS):\\n\\n1. Evaluate the expressions inside the parentheses: 2+3 = 5\\n2. Multiply 4 and 8: 4*8 = 32\\n3. Subtract 32 from 5: 5 - 32 = -27\\n\\nSo the final answer is -27.' additional_kwargs={'usage': {'prompt_tokens': 24, 'completion_tokens': 79, 'total_tokens': 103}, 'stop_reason': 'stop', 'model_id': 'meta.llama3-8b-instruct-v1:0'} response_metadata={'usage': {'prompt_tokens': 24, 'completion_tokens': 79, 'total_tokens': 103}, 'stop_reason': 'stop', 'model_id': 'meta.llama3-8b-instruct-v1:0'} id='run-5a55803a-82cb-455e-aa5b-1a370662f7c7-0' usage_metadata={'input_tokens': 24, 'output_tokens': 79, 'total_tokens': 103}\n",
      "2025-01-28 20:44:05,762 - scripts.agents - DEBUG - Last message type: <class 'langchain_core.messages.ai.AIMessage'>\n",
      "2025-01-28 20:44:05,762 - scripts.agents - DEBUG - Processing for Node MultiplyAgent\n",
      "2025-01-28 20:44:05,762 - scripts.agents - DEBUG - Input State: {'messages': [HumanMessage(content='Solve this problem: (2+3)-4*8', additional_kwargs={}, response_metadata={}, id='5fc0167f-af22-4e06-a0a7-e9f02a0ba22f', role='user'), {'messages': [HumanMessage(content='Solve this problem: (2+3)-4*8', additional_kwargs={}, response_metadata={}, id='5fc0167f-af22-4e06-a0a7-e9f02a0ba22f', role='user'), AIMessage(content='To solve this problem, we need to follow the order of operations (PEMDAS):\\n\\n1. Evaluate the expressions inside the parentheses: 2+3 = 5\\n2. Multiply 4 and 8: 4*8 = 32\\n3. Subtract 32 from 5: 5 - 32 = -27\\n\\nSo the final answer is -27.', additional_kwargs={'usage': {'prompt_tokens': 24, 'completion_tokens': 79, 'total_tokens': 103}, 'stop_reason': 'stop', 'model_id': 'meta.llama3-8b-instruct-v1:0'}, response_metadata={'usage': {'prompt_tokens': 24, 'completion_tokens': 79, 'total_tokens': 103}, 'stop_reason': 'stop', 'model_id': 'meta.llama3-8b-instruct-v1:0'}, id='run-5a55803a-82cb-455e-aa5b-1a370662f7c7-0', usage_metadata={'input_tokens': 24, 'output_tokens': 79, 'total_tokens': 103})]}], 'current_node': 'MultiplyAgent', 'available_nodes': ['SubtractAgent', 'AddAgent', 'END'], 'finished': False}\n",
      "2025-01-28 20:44:05,771 - scripts.agents - DEBUG - Invoking MultiplyAgent\n"
     ]
    },
    {
     "ename": "ValueError",
     "evalue": "Message dict must contain 'role' and 'content' keys, got {'messages': [HumanMessage(content='Solve this problem: (2+3)-4*8', additional_kwargs={}, response_metadata={}, id='5fc0167f-af22-4e06-a0a7-e9f02a0ba22f', role='user'), AIMessage(content='To solve this problem, we need to follow the order of operations (PEMDAS):\\n\\n1. Evaluate the expressions inside the parentheses: 2+3 = 5\\n2. Multiply 4 and 8: 4*8 = 32\\n3. Subtract 32 from 5: 5 - 32 = -27\\n\\nSo the final answer is -27.', additional_kwargs={'usage': {'prompt_tokens': 24, 'completion_tokens': 79, 'total_tokens': 103}, 'stop_reason': 'stop', 'model_id': 'meta.llama3-8b-instruct-v1:0'}, response_metadata={'usage': {'prompt_tokens': 24, 'completion_tokens': 79, 'total_tokens': 103}, 'stop_reason': 'stop', 'model_id': 'meta.llama3-8b-instruct-v1:0'}, id='run-5a55803a-82cb-455e-aa5b-1a370662f7c7-0', usage_metadata={'input_tokens': 24, 'output_tokens': 79, 'total_tokens': 103})]}\nFor troubleshooting, visit: https://python.langchain.com/docs/troubleshooting/errors/MESSAGE_COERCION_FAILURE ",
     "output_type": "error",
     "traceback": [
      "\u001b[1;31m---------------------------------------------------------------------------\u001b[0m",
      "\u001b[1;31mKeyError\u001b[0m                                  Traceback (most recent call last)",
      "File \u001b[1;32mc:\\Users\\cgwed\\anaconda3\\envs\\llm_hub\\Lib\\site-packages\\langchain_core\\messages\\utils.py:319\u001b[0m, in \u001b[0;36m_convert_to_message\u001b[1;34m(message)\u001b[0m\n\u001b[0;32m    318\u001b[0m \u001b[38;5;28;01mtry\u001b[39;00m:\n\u001b[1;32m--> 319\u001b[0m     msg_type \u001b[38;5;241m=\u001b[39m \u001b[43mmsg_kwargs\u001b[49m\u001b[38;5;241;43m.\u001b[39;49m\u001b[43mpop\u001b[49m\u001b[43m(\u001b[49m\u001b[38;5;124;43m\"\u001b[39;49m\u001b[38;5;124;43mrole\u001b[39;49m\u001b[38;5;124;43m\"\u001b[39;49m\u001b[43m)\u001b[49m\n\u001b[0;32m    320\u001b[0m \u001b[38;5;28;01mexcept\u001b[39;00m \u001b[38;5;167;01mKeyError\u001b[39;00m:\n",
      "\u001b[1;31mKeyError\u001b[0m: 'role'",
      "\nDuring handling of the above exception, another exception occurred:\n",
      "\u001b[1;31mKeyError\u001b[0m                                  Traceback (most recent call last)",
      "File \u001b[1;32mc:\\Users\\cgwed\\anaconda3\\envs\\llm_hub\\Lib\\site-packages\\langchain_core\\messages\\utils.py:321\u001b[0m, in \u001b[0;36m_convert_to_message\u001b[1;34m(message)\u001b[0m\n\u001b[0;32m    320\u001b[0m \u001b[38;5;28;01mexcept\u001b[39;00m \u001b[38;5;167;01mKeyError\u001b[39;00m:\n\u001b[1;32m--> 321\u001b[0m     msg_type \u001b[38;5;241m=\u001b[39m \u001b[43mmsg_kwargs\u001b[49m\u001b[38;5;241;43m.\u001b[39;49m\u001b[43mpop\u001b[49m\u001b[43m(\u001b[49m\u001b[38;5;124;43m\"\u001b[39;49m\u001b[38;5;124;43mtype\u001b[39;49m\u001b[38;5;124;43m\"\u001b[39;49m\u001b[43m)\u001b[49m\n\u001b[0;32m    322\u001b[0m \u001b[38;5;66;03m# None msg content is not allowed\u001b[39;00m\n",
      "\u001b[1;31mKeyError\u001b[0m: 'type'",
      "\nThe above exception was the direct cause of the following exception:\n",
      "\u001b[1;31mValueError\u001b[0m                                Traceback (most recent call last)",
      "Cell \u001b[1;32mIn[15], line 1\u001b[0m\n\u001b[1;32m----> 1\u001b[0m result \u001b[38;5;241m=\u001b[39m \u001b[43mgraph\u001b[49m\u001b[38;5;241;43m.\u001b[39;49m\u001b[43mgraph\u001b[49m\u001b[38;5;241;43m.\u001b[39;49m\u001b[43minvoke\u001b[49m\u001b[43m(\u001b[49m\u001b[43m{\u001b[49m\u001b[38;5;124;43m\"\u001b[39;49m\u001b[38;5;124;43mmessages\u001b[39;49m\u001b[38;5;124;43m\"\u001b[39;49m\u001b[43m:\u001b[49m\u001b[43m \u001b[49m\u001b[43m[\u001b[49m\u001b[43mHumanMessage\u001b[49m\u001b[43m(\u001b[49m\u001b[43mcontent\u001b[49m\u001b[38;5;241;43m=\u001b[39;49m\u001b[43mmessage\u001b[49m\u001b[43m,\u001b[49m\u001b[43m \u001b[49m\u001b[43mrole\u001b[49m\u001b[38;5;241;43m=\u001b[39;49m\u001b[38;5;124;43m\"\u001b[39;49m\u001b[38;5;124;43muser\u001b[39;49m\u001b[38;5;124;43m\"\u001b[39;49m\u001b[43m)\u001b[49m\u001b[43m]\u001b[49m\u001b[43m}\u001b[49m\u001b[43m)\u001b[49m\n",
      "File \u001b[1;32mc:\\Users\\cgwed\\anaconda3\\envs\\llm_hub\\Lib\\site-packages\\langgraph\\pregel\\__init__.py:1936\u001b[0m, in \u001b[0;36mPregel.invoke\u001b[1;34m(self, input, config, stream_mode, output_keys, interrupt_before, interrupt_after, debug, **kwargs)\u001b[0m\n\u001b[0;32m   1934\u001b[0m \u001b[38;5;28;01melse\u001b[39;00m:\n\u001b[0;32m   1935\u001b[0m     chunks \u001b[38;5;241m=\u001b[39m []\n\u001b[1;32m-> 1936\u001b[0m \u001b[43m\u001b[49m\u001b[38;5;28;43;01mfor\u001b[39;49;00m\u001b[43m \u001b[49m\u001b[43mchunk\u001b[49m\u001b[43m \u001b[49m\u001b[38;5;129;43;01min\u001b[39;49;00m\u001b[43m \u001b[49m\u001b[38;5;28;43mself\u001b[39;49m\u001b[38;5;241;43m.\u001b[39;49m\u001b[43mstream\u001b[49m\u001b[43m(\u001b[49m\n\u001b[0;32m   1937\u001b[0m \u001b[43m    \u001b[49m\u001b[38;5;28;43minput\u001b[39;49m\u001b[43m,\u001b[49m\n\u001b[0;32m   1938\u001b[0m \u001b[43m    \u001b[49m\u001b[43mconfig\u001b[49m\u001b[43m,\u001b[49m\n\u001b[0;32m   1939\u001b[0m \u001b[43m    \u001b[49m\u001b[43mstream_mode\u001b[49m\u001b[38;5;241;43m=\u001b[39;49m\u001b[43mstream_mode\u001b[49m\u001b[43m,\u001b[49m\n\u001b[0;32m   1940\u001b[0m \u001b[43m    \u001b[49m\u001b[43moutput_keys\u001b[49m\u001b[38;5;241;43m=\u001b[39;49m\u001b[43moutput_keys\u001b[49m\u001b[43m,\u001b[49m\n\u001b[0;32m   1941\u001b[0m \u001b[43m    \u001b[49m\u001b[43minterrupt_before\u001b[49m\u001b[38;5;241;43m=\u001b[39;49m\u001b[43minterrupt_before\u001b[49m\u001b[43m,\u001b[49m\n\u001b[0;32m   1942\u001b[0m \u001b[43m    \u001b[49m\u001b[43minterrupt_after\u001b[49m\u001b[38;5;241;43m=\u001b[39;49m\u001b[43minterrupt_after\u001b[49m\u001b[43m,\u001b[49m\n\u001b[0;32m   1943\u001b[0m \u001b[43m    \u001b[49m\u001b[43mdebug\u001b[49m\u001b[38;5;241;43m=\u001b[39;49m\u001b[43mdebug\u001b[49m\u001b[43m,\u001b[49m\n\u001b[0;32m   1944\u001b[0m \u001b[43m    \u001b[49m\u001b[38;5;241;43m*\u001b[39;49m\u001b[38;5;241;43m*\u001b[39;49m\u001b[43mkwargs\u001b[49m\u001b[43m,\u001b[49m\n\u001b[0;32m   1945\u001b[0m \u001b[43m\u001b[49m\u001b[43m)\u001b[49m\u001b[43m:\u001b[49m\n\u001b[0;32m   1946\u001b[0m \u001b[43m    \u001b[49m\u001b[38;5;28;43;01mif\u001b[39;49;00m\u001b[43m \u001b[49m\u001b[43mstream_mode\u001b[49m\u001b[43m \u001b[49m\u001b[38;5;241;43m==\u001b[39;49m\u001b[43m \u001b[49m\u001b[38;5;124;43m\"\u001b[39;49m\u001b[38;5;124;43mvalues\u001b[39;49m\u001b[38;5;124;43m\"\u001b[39;49m\u001b[43m:\u001b[49m\n\u001b[0;32m   1947\u001b[0m \u001b[43m        \u001b[49m\u001b[43mlatest\u001b[49m\u001b[43m \u001b[49m\u001b[38;5;241;43m=\u001b[39;49m\u001b[43m \u001b[49m\u001b[43mchunk\u001b[49m\n",
      "File \u001b[1;32mc:\\Users\\cgwed\\anaconda3\\envs\\llm_hub\\Lib\\site-packages\\langgraph\\pregel\\__init__.py:1656\u001b[0m, in \u001b[0;36mPregel.stream\u001b[1;34m(self, input, config, stream_mode, output_keys, interrupt_before, interrupt_after, debug, subgraphs)\u001b[0m\n\u001b[0;32m   1650\u001b[0m     \u001b[38;5;66;03m# Similarly to Bulk Synchronous Parallel / Pregel model\u001b[39;00m\n\u001b[0;32m   1651\u001b[0m     \u001b[38;5;66;03m# computation proceeds in steps, while there are channel updates\u001b[39;00m\n\u001b[0;32m   1652\u001b[0m     \u001b[38;5;66;03m# channel updates from step N are only visible in step N+1\u001b[39;00m\n\u001b[0;32m   1653\u001b[0m     \u001b[38;5;66;03m# channels are guaranteed to be immutable for the duration of the step,\u001b[39;00m\n\u001b[0;32m   1654\u001b[0m     \u001b[38;5;66;03m# with channel updates applied only at the transition between steps\u001b[39;00m\n\u001b[0;32m   1655\u001b[0m     \u001b[38;5;28;01mwhile\u001b[39;00m loop\u001b[38;5;241m.\u001b[39mtick(input_keys\u001b[38;5;241m=\u001b[39m\u001b[38;5;28mself\u001b[39m\u001b[38;5;241m.\u001b[39minput_channels):\n\u001b[1;32m-> 1656\u001b[0m \u001b[43m        \u001b[49m\u001b[38;5;28;43;01mfor\u001b[39;49;00m\u001b[43m \u001b[49m\u001b[43m_\u001b[49m\u001b[43m \u001b[49m\u001b[38;5;129;43;01min\u001b[39;49;00m\u001b[43m \u001b[49m\u001b[43mrunner\u001b[49m\u001b[38;5;241;43m.\u001b[39;49m\u001b[43mtick\u001b[49m\u001b[43m(\u001b[49m\n\u001b[0;32m   1657\u001b[0m \u001b[43m            \u001b[49m\u001b[43mloop\u001b[49m\u001b[38;5;241;43m.\u001b[39;49m\u001b[43mtasks\u001b[49m\u001b[38;5;241;43m.\u001b[39;49m\u001b[43mvalues\u001b[49m\u001b[43m(\u001b[49m\u001b[43m)\u001b[49m\u001b[43m,\u001b[49m\n\u001b[0;32m   1658\u001b[0m \u001b[43m            \u001b[49m\u001b[43mtimeout\u001b[49m\u001b[38;5;241;43m=\u001b[39;49m\u001b[38;5;28;43mself\u001b[39;49m\u001b[38;5;241;43m.\u001b[39;49m\u001b[43mstep_timeout\u001b[49m\u001b[43m,\u001b[49m\n\u001b[0;32m   1659\u001b[0m \u001b[43m            \u001b[49m\u001b[43mretry_policy\u001b[49m\u001b[38;5;241;43m=\u001b[39;49m\u001b[38;5;28;43mself\u001b[39;49m\u001b[38;5;241;43m.\u001b[39;49m\u001b[43mretry_policy\u001b[49m\u001b[43m,\u001b[49m\n\u001b[0;32m   1660\u001b[0m \u001b[43m            \u001b[49m\u001b[43mget_waiter\u001b[49m\u001b[38;5;241;43m=\u001b[39;49m\u001b[43mget_waiter\u001b[49m\u001b[43m,\u001b[49m\n\u001b[0;32m   1661\u001b[0m \u001b[43m        \u001b[49m\u001b[43m)\u001b[49m\u001b[43m:\u001b[49m\n\u001b[0;32m   1662\u001b[0m \u001b[43m            \u001b[49m\u001b[38;5;66;43;03m# emit output\u001b[39;49;00m\n\u001b[0;32m   1663\u001b[0m \u001b[43m            \u001b[49m\u001b[38;5;28;43;01myield from\u001b[39;49;00m\u001b[43m \u001b[49m\u001b[43moutput\u001b[49m\u001b[43m(\u001b[49m\u001b[43m)\u001b[49m\n\u001b[0;32m   1664\u001b[0m \u001b[38;5;66;03m# emit output\u001b[39;00m\n",
      "File \u001b[1;32mc:\\Users\\cgwed\\anaconda3\\envs\\llm_hub\\Lib\\site-packages\\langgraph\\pregel\\runner.py:167\u001b[0m, in \u001b[0;36mPregelRunner.tick\u001b[1;34m(self, tasks, reraise, timeout, retry_policy, get_waiter)\u001b[0m\n\u001b[0;32m    165\u001b[0m t \u001b[38;5;241m=\u001b[39m tasks[\u001b[38;5;241m0\u001b[39m]\n\u001b[0;32m    166\u001b[0m \u001b[38;5;28;01mtry\u001b[39;00m:\n\u001b[1;32m--> 167\u001b[0m     \u001b[43mrun_with_retry\u001b[49m\u001b[43m(\u001b[49m\n\u001b[0;32m    168\u001b[0m \u001b[43m        \u001b[49m\u001b[43mt\u001b[49m\u001b[43m,\u001b[49m\n\u001b[0;32m    169\u001b[0m \u001b[43m        \u001b[49m\u001b[43mretry_policy\u001b[49m\u001b[43m,\u001b[49m\n\u001b[0;32m    170\u001b[0m \u001b[43m        \u001b[49m\u001b[43mconfigurable\u001b[49m\u001b[38;5;241;43m=\u001b[39;49m\u001b[43m{\u001b[49m\n\u001b[0;32m    171\u001b[0m \u001b[43m            \u001b[49m\u001b[43mCONFIG_KEY_SEND\u001b[49m\u001b[43m:\u001b[49m\u001b[43m \u001b[49m\u001b[43mpartial\u001b[49m\u001b[43m(\u001b[49m\u001b[43mwriter\u001b[49m\u001b[43m,\u001b[49m\u001b[43m \u001b[49m\u001b[43mt\u001b[49m\u001b[43m)\u001b[49m\u001b[43m,\u001b[49m\n\u001b[0;32m    172\u001b[0m \u001b[43m            \u001b[49m\u001b[43mCONFIG_KEY_CALL\u001b[49m\u001b[43m:\u001b[49m\u001b[43m \u001b[49m\u001b[43mpartial\u001b[49m\u001b[43m(\u001b[49m\u001b[43mcall\u001b[49m\u001b[43m,\u001b[49m\u001b[43m \u001b[49m\u001b[43mt\u001b[49m\u001b[43m)\u001b[49m\u001b[43m,\u001b[49m\n\u001b[0;32m    173\u001b[0m \u001b[43m        \u001b[49m\u001b[43m}\u001b[49m\u001b[43m,\u001b[49m\n\u001b[0;32m    174\u001b[0m \u001b[43m    \u001b[49m\u001b[43m)\u001b[49m\n\u001b[0;32m    175\u001b[0m     \u001b[38;5;28mself\u001b[39m\u001b[38;5;241m.\u001b[39mcommit(t, \u001b[38;5;28;01mNone\u001b[39;00m)\n\u001b[0;32m    176\u001b[0m \u001b[38;5;28;01mexcept\u001b[39;00m \u001b[38;5;167;01mException\u001b[39;00m \u001b[38;5;28;01mas\u001b[39;00m exc:\n",
      "File \u001b[1;32mc:\\Users\\cgwed\\anaconda3\\envs\\llm_hub\\Lib\\site-packages\\langgraph\\pregel\\retry.py:40\u001b[0m, in \u001b[0;36mrun_with_retry\u001b[1;34m(task, retry_policy, configurable)\u001b[0m\n\u001b[0;32m     38\u001b[0m     task\u001b[38;5;241m.\u001b[39mwrites\u001b[38;5;241m.\u001b[39mclear()\n\u001b[0;32m     39\u001b[0m     \u001b[38;5;66;03m# run the task\u001b[39;00m\n\u001b[1;32m---> 40\u001b[0m     \u001b[38;5;28;01mreturn\u001b[39;00m \u001b[43mtask\u001b[49m\u001b[38;5;241;43m.\u001b[39;49m\u001b[43mproc\u001b[49m\u001b[38;5;241;43m.\u001b[39;49m\u001b[43minvoke\u001b[49m\u001b[43m(\u001b[49m\u001b[43mtask\u001b[49m\u001b[38;5;241;43m.\u001b[39;49m\u001b[43minput\u001b[49m\u001b[43m,\u001b[49m\u001b[43m \u001b[49m\u001b[43mconfig\u001b[49m\u001b[43m)\u001b[49m\n\u001b[0;32m     41\u001b[0m \u001b[38;5;28;01mexcept\u001b[39;00m ParentCommand \u001b[38;5;28;01mas\u001b[39;00m exc:\n\u001b[0;32m     42\u001b[0m     ns: \u001b[38;5;28mstr\u001b[39m \u001b[38;5;241m=\u001b[39m config[CONF][CONFIG_KEY_CHECKPOINT_NS]\n",
      "File \u001b[1;32mc:\\Users\\cgwed\\anaconda3\\envs\\llm_hub\\Lib\\site-packages\\langgraph\\utils\\runnable.py:408\u001b[0m, in \u001b[0;36mRunnableSeq.invoke\u001b[1;34m(self, input, config, **kwargs)\u001b[0m\n\u001b[0;32m    404\u001b[0m config \u001b[38;5;241m=\u001b[39m patch_config(\n\u001b[0;32m    405\u001b[0m     config, callbacks\u001b[38;5;241m=\u001b[39mrun_manager\u001b[38;5;241m.\u001b[39mget_child(\u001b[38;5;124mf\u001b[39m\u001b[38;5;124m\"\u001b[39m\u001b[38;5;124mseq:step:\u001b[39m\u001b[38;5;132;01m{\u001b[39;00mi\u001b[38;5;241m+\u001b[39m\u001b[38;5;241m1\u001b[39m\u001b[38;5;132;01m}\u001b[39;00m\u001b[38;5;124m\"\u001b[39m)\n\u001b[0;32m    406\u001b[0m )\n\u001b[0;32m    407\u001b[0m \u001b[38;5;28;01mif\u001b[39;00m i \u001b[38;5;241m==\u001b[39m \u001b[38;5;241m0\u001b[39m:\n\u001b[1;32m--> 408\u001b[0m     \u001b[38;5;28minput\u001b[39m \u001b[38;5;241m=\u001b[39m \u001b[43mstep\u001b[49m\u001b[38;5;241;43m.\u001b[39;49m\u001b[43minvoke\u001b[49m\u001b[43m(\u001b[49m\u001b[38;5;28;43minput\u001b[39;49m\u001b[43m,\u001b[49m\u001b[43m \u001b[49m\u001b[43mconfig\u001b[49m\u001b[43m,\u001b[49m\u001b[43m \u001b[49m\u001b[38;5;241;43m*\u001b[39;49m\u001b[38;5;241;43m*\u001b[39;49m\u001b[43mkwargs\u001b[49m\u001b[43m)\u001b[49m\n\u001b[0;32m    409\u001b[0m \u001b[38;5;28;01melse\u001b[39;00m:\n\u001b[0;32m    410\u001b[0m     \u001b[38;5;28minput\u001b[39m \u001b[38;5;241m=\u001b[39m step\u001b[38;5;241m.\u001b[39minvoke(\u001b[38;5;28minput\u001b[39m, config)\n",
      "File \u001b[1;32mc:\\Users\\cgwed\\anaconda3\\envs\\llm_hub\\Lib\\site-packages\\langgraph\\utils\\runnable.py:184\u001b[0m, in \u001b[0;36mRunnableCallable.invoke\u001b[1;34m(self, input, config, **kwargs)\u001b[0m\n\u001b[0;32m    182\u001b[0m \u001b[38;5;28;01melse\u001b[39;00m:\n\u001b[0;32m    183\u001b[0m     context\u001b[38;5;241m.\u001b[39mrun(_set_config_context, config)\n\u001b[1;32m--> 184\u001b[0m     ret \u001b[38;5;241m=\u001b[39m \u001b[43mcontext\u001b[49m\u001b[38;5;241;43m.\u001b[39;49m\u001b[43mrun\u001b[49m\u001b[43m(\u001b[49m\u001b[38;5;28;43mself\u001b[39;49m\u001b[38;5;241;43m.\u001b[39;49m\u001b[43mfunc\u001b[49m\u001b[43m,\u001b[49m\u001b[43m \u001b[49m\u001b[38;5;28;43minput\u001b[39;49m\u001b[43m,\u001b[49m\u001b[43m \u001b[49m\u001b[38;5;241;43m*\u001b[39;49m\u001b[38;5;241;43m*\u001b[39;49m\u001b[43mkwargs\u001b[49m\u001b[43m)\u001b[49m\n\u001b[0;32m    185\u001b[0m \u001b[38;5;28;01mif\u001b[39;00m \u001b[38;5;28misinstance\u001b[39m(ret, Runnable) \u001b[38;5;129;01mand\u001b[39;00m \u001b[38;5;28mself\u001b[39m\u001b[38;5;241m.\u001b[39mrecurse:\n\u001b[0;32m    186\u001b[0m     \u001b[38;5;28;01mreturn\u001b[39;00m ret\u001b[38;5;241m.\u001b[39minvoke(\u001b[38;5;28minput\u001b[39m, config)\n",
      "File \u001b[1;32mc:\\Users\\cgwed\\Documents\\repos\\llm-hub\\scripts\\agents.py:548\u001b[0m, in \u001b[0;36mCustomGraph.create_graph.<locals>.<lambda>\u001b[1;34m(state)\u001b[0m\n\u001b[0;32m    545\u001b[0m         node \u001b[38;5;241m=\u001b[39m \u001b[38;5;28mself\u001b[39m\u001b[38;5;241m.\u001b[39m_get_node(node_name, available_nodes)\n\u001b[0;32m    546\u001b[0m         logger\u001b[38;5;241m.\u001b[39mdebug(\u001b[38;5;124mf\u001b[39m\u001b[38;5;124m'\u001b[39m\u001b[38;5;124mAdding node \u001b[39m\u001b[38;5;132;01m{\u001b[39;00mnode_name\u001b[38;5;132;01m}\u001b[39;00m\u001b[38;5;124m to workflow\u001b[39m\u001b[38;5;124m'\u001b[39m)\n\u001b[0;32m    547\u001b[0m         workflow\u001b[38;5;241m.\u001b[39madd_node(node_name, \n\u001b[1;32m--> 548\u001b[0m                           \u001b[38;5;28;01mlambda\u001b[39;00m state: \u001b[43mprocess_input\u001b[49m\u001b[43m(\u001b[49m\u001b[43mstate\u001b[49m\u001b[43m,\u001b[49m\u001b[43m \u001b[49m\u001b[43mnode\u001b[49m\u001b[38;5;241;43m=\u001b[39;49m\u001b[43mnode\u001b[49m\u001b[43m,\u001b[49m\u001b[43m \u001b[49m\u001b[43moutline\u001b[49m\u001b[38;5;241;43m=\u001b[39;49m\u001b[38;5;28;43mself\u001b[39;49m\u001b[38;5;241;43m.\u001b[39;49m\u001b[43moutline\u001b[49m\u001b[43m)\u001b[49m)\n\u001b[0;32m    550\u001b[0m start_node \u001b[38;5;241m=\u001b[39m \u001b[38;5;28mself\u001b[39m\u001b[38;5;241m.\u001b[39moutline[\u001b[38;5;124m'\u001b[39m\u001b[38;5;124mSTART\u001b[39m\u001b[38;5;124m'\u001b[39m][\u001b[38;5;241m0\u001b[39m]\n\u001b[0;32m    551\u001b[0m logger\u001b[38;5;241m.\u001b[39mdebug(\u001b[38;5;124mf\u001b[39m\u001b[38;5;124m'\u001b[39m\u001b[38;5;124mStart Node: \u001b[39m\u001b[38;5;132;01m{\u001b[39;00mstart_node\u001b[38;5;132;01m}\u001b[39;00m\u001b[38;5;124m'\u001b[39m)\n",
      "File \u001b[1;32mc:\\Users\\cgwed\\Documents\\repos\\llm-hub\\scripts\\agents.py:476\u001b[0m, in \u001b[0;36mprocess_input\u001b[1;34m(state, node, outline)\u001b[0m\n\u001b[0;32m    474\u001b[0m logger\u001b[38;5;241m.\u001b[39mdebug(\u001b[38;5;124mf\u001b[39m\u001b[38;5;124m'\u001b[39m\u001b[38;5;124mInput State: \u001b[39m\u001b[38;5;132;01m{\u001b[39;00mstate\u001b[38;5;132;01m}\u001b[39;00m\u001b[38;5;124m'\u001b[39m)\n\u001b[0;32m    475\u001b[0m \u001b[38;5;66;03m#state = node.invoke(state)\u001b[39;00m\n\u001b[1;32m--> 476\u001b[0m response \u001b[38;5;241m=\u001b[39m \u001b[43mnode\u001b[49m\u001b[38;5;241;43m.\u001b[39;49m\u001b[43minvoke\u001b[49m\u001b[43m(\u001b[49m\u001b[43mstate\u001b[49m\u001b[43m)\u001b[49m\n\u001b[0;32m    477\u001b[0m available_nodes \u001b[38;5;241m=\u001b[39m outline[node\u001b[38;5;241m.\u001b[39mname]\n\u001b[0;32m    478\u001b[0m \u001b[38;5;28;01mif\u001b[39;00m \u001b[38;5;124m'\u001b[39m\u001b[38;5;124mEND\u001b[39m\u001b[38;5;124m'\u001b[39m \u001b[38;5;129;01min\u001b[39;00m response:\n",
      "File \u001b[1;32mc:\\Users\\cgwed\\Documents\\repos\\llm-hub\\scripts\\agents.py:336\u001b[0m, in \u001b[0;36mCustomAgent.invoke\u001b[1;34m(self, state)\u001b[0m\n\u001b[0;32m    333\u001b[0m logger\u001b[38;5;241m.\u001b[39mdebug(\u001b[38;5;124mf\u001b[39m\u001b[38;5;124m'\u001b[39m\u001b[38;5;124mInvoking \u001b[39m\u001b[38;5;132;01m{\u001b[39;00m\u001b[38;5;28mself\u001b[39m\u001b[38;5;241m.\u001b[39mname\u001b[38;5;132;01m}\u001b[39;00m\u001b[38;5;124m'\u001b[39m)\n\u001b[0;32m    334\u001b[0m \u001b[38;5;66;03m#user_message = state[\"messages\"][-1][\"content\"]      \u001b[39;00m\n\u001b[0;32m    335\u001b[0m \u001b[38;5;66;03m#user_message = state[\"messages\"][-1].content\u001b[39;00m\n\u001b[1;32m--> 336\u001b[0m response \u001b[38;5;241m=\u001b[39m \u001b[38;5;28;43mself\u001b[39;49m\u001b[38;5;241;43m.\u001b[39;49m\u001b[43magent\u001b[49m\u001b[38;5;241;43m.\u001b[39;49m\u001b[43minvoke\u001b[49m\u001b[43m(\u001b[49m\u001b[43mstate\u001b[49m\u001b[43m)\u001b[49m\n\u001b[0;32m    337\u001b[0m logger\u001b[38;5;241m.\u001b[39mdebug(\u001b[38;5;124mf\u001b[39m\u001b[38;5;124m'\u001b[39m\u001b[38;5;124mReuslt of \u001b[39m\u001b[38;5;132;01m{\u001b[39;00m\u001b[38;5;28mself\u001b[39m\u001b[38;5;241m.\u001b[39mname\u001b[38;5;132;01m}\u001b[39;00m\u001b[38;5;124m invocation: \u001b[39m\u001b[38;5;132;01m{\u001b[39;00mresponse\u001b[38;5;132;01m}\u001b[39;00m\u001b[38;5;124m'\u001b[39m)\n\u001b[0;32m    338\u001b[0m \u001b[38;5;66;03m#state[\"messages\"].append(AIMessage(content=response))\u001b[39;00m\n\u001b[0;32m    339\u001b[0m \u001b[38;5;66;03m#state[\"messages\"].append({\"role\": \"user\", \"content\": user_message})\u001b[39;00m\n\u001b[0;32m    340\u001b[0m \u001b[38;5;66;03m#state[\"messages\"].append({\"role\": \"agent\", \"content\": response})\u001b[39;00m\n\u001b[1;32m   (...)\u001b[0m\n\u001b[0;32m    346\u001b[0m \u001b[38;5;66;03m#else:\u001b[39;00m\n\u001b[0;32m    347\u001b[0m \u001b[38;5;66;03m#    finished = state['finished']\u001b[39;00m\n",
      "File \u001b[1;32mc:\\Users\\cgwed\\anaconda3\\envs\\llm_hub\\Lib\\site-packages\\langgraph\\pregel\\__init__.py:1936\u001b[0m, in \u001b[0;36mPregel.invoke\u001b[1;34m(self, input, config, stream_mode, output_keys, interrupt_before, interrupt_after, debug, **kwargs)\u001b[0m\n\u001b[0;32m   1934\u001b[0m \u001b[38;5;28;01melse\u001b[39;00m:\n\u001b[0;32m   1935\u001b[0m     chunks \u001b[38;5;241m=\u001b[39m []\n\u001b[1;32m-> 1936\u001b[0m \u001b[43m\u001b[49m\u001b[38;5;28;43;01mfor\u001b[39;49;00m\u001b[43m \u001b[49m\u001b[43mchunk\u001b[49m\u001b[43m \u001b[49m\u001b[38;5;129;43;01min\u001b[39;49;00m\u001b[43m \u001b[49m\u001b[38;5;28;43mself\u001b[39;49m\u001b[38;5;241;43m.\u001b[39;49m\u001b[43mstream\u001b[49m\u001b[43m(\u001b[49m\n\u001b[0;32m   1937\u001b[0m \u001b[43m    \u001b[49m\u001b[38;5;28;43minput\u001b[39;49m\u001b[43m,\u001b[49m\n\u001b[0;32m   1938\u001b[0m \u001b[43m    \u001b[49m\u001b[43mconfig\u001b[49m\u001b[43m,\u001b[49m\n\u001b[0;32m   1939\u001b[0m \u001b[43m    \u001b[49m\u001b[43mstream_mode\u001b[49m\u001b[38;5;241;43m=\u001b[39;49m\u001b[43mstream_mode\u001b[49m\u001b[43m,\u001b[49m\n\u001b[0;32m   1940\u001b[0m \u001b[43m    \u001b[49m\u001b[43moutput_keys\u001b[49m\u001b[38;5;241;43m=\u001b[39;49m\u001b[43moutput_keys\u001b[49m\u001b[43m,\u001b[49m\n\u001b[0;32m   1941\u001b[0m \u001b[43m    \u001b[49m\u001b[43minterrupt_before\u001b[49m\u001b[38;5;241;43m=\u001b[39;49m\u001b[43minterrupt_before\u001b[49m\u001b[43m,\u001b[49m\n\u001b[0;32m   1942\u001b[0m \u001b[43m    \u001b[49m\u001b[43minterrupt_after\u001b[49m\u001b[38;5;241;43m=\u001b[39;49m\u001b[43minterrupt_after\u001b[49m\u001b[43m,\u001b[49m\n\u001b[0;32m   1943\u001b[0m \u001b[43m    \u001b[49m\u001b[43mdebug\u001b[49m\u001b[38;5;241;43m=\u001b[39;49m\u001b[43mdebug\u001b[49m\u001b[43m,\u001b[49m\n\u001b[0;32m   1944\u001b[0m \u001b[43m    \u001b[49m\u001b[38;5;241;43m*\u001b[39;49m\u001b[38;5;241;43m*\u001b[39;49m\u001b[43mkwargs\u001b[49m\u001b[43m,\u001b[49m\n\u001b[0;32m   1945\u001b[0m \u001b[43m\u001b[49m\u001b[43m)\u001b[49m\u001b[43m:\u001b[49m\n\u001b[0;32m   1946\u001b[0m \u001b[43m    \u001b[49m\u001b[38;5;28;43;01mif\u001b[39;49;00m\u001b[43m \u001b[49m\u001b[43mstream_mode\u001b[49m\u001b[43m \u001b[49m\u001b[38;5;241;43m==\u001b[39;49m\u001b[43m \u001b[49m\u001b[38;5;124;43m\"\u001b[39;49m\u001b[38;5;124;43mvalues\u001b[39;49m\u001b[38;5;124;43m\"\u001b[39;49m\u001b[43m:\u001b[49m\n\u001b[0;32m   1947\u001b[0m \u001b[43m        \u001b[49m\u001b[43mlatest\u001b[49m\u001b[43m \u001b[49m\u001b[38;5;241;43m=\u001b[39;49m\u001b[43m \u001b[49m\u001b[43mchunk\u001b[49m\n",
      "File \u001b[1;32mc:\\Users\\cgwed\\anaconda3\\envs\\llm_hub\\Lib\\site-packages\\langgraph\\pregel\\__init__.py:1655\u001b[0m, in \u001b[0;36mPregel.stream\u001b[1;34m(self, input, config, stream_mode, output_keys, interrupt_before, interrupt_after, debug, subgraphs)\u001b[0m\n\u001b[0;32m   1649\u001b[0m     get_waiter \u001b[38;5;241m=\u001b[39m \u001b[38;5;28;01mNone\u001b[39;00m  \u001b[38;5;66;03m# type: ignore[assignment]\u001b[39;00m\n\u001b[0;32m   1650\u001b[0m \u001b[38;5;66;03m# Similarly to Bulk Synchronous Parallel / Pregel model\u001b[39;00m\n\u001b[0;32m   1651\u001b[0m \u001b[38;5;66;03m# computation proceeds in steps, while there are channel updates\u001b[39;00m\n\u001b[0;32m   1652\u001b[0m \u001b[38;5;66;03m# channel updates from step N are only visible in step N+1\u001b[39;00m\n\u001b[0;32m   1653\u001b[0m \u001b[38;5;66;03m# channels are guaranteed to be immutable for the duration of the step,\u001b[39;00m\n\u001b[0;32m   1654\u001b[0m \u001b[38;5;66;03m# with channel updates applied only at the transition between steps\u001b[39;00m\n\u001b[1;32m-> 1655\u001b[0m \u001b[38;5;28;01mwhile\u001b[39;00m \u001b[43mloop\u001b[49m\u001b[38;5;241;43m.\u001b[39;49m\u001b[43mtick\u001b[49m\u001b[43m(\u001b[49m\u001b[43minput_keys\u001b[49m\u001b[38;5;241;43m=\u001b[39;49m\u001b[38;5;28;43mself\u001b[39;49m\u001b[38;5;241;43m.\u001b[39;49m\u001b[43minput_channels\u001b[49m\u001b[43m)\u001b[49m:\n\u001b[0;32m   1656\u001b[0m     \u001b[38;5;28;01mfor\u001b[39;00m _ \u001b[38;5;129;01min\u001b[39;00m runner\u001b[38;5;241m.\u001b[39mtick(\n\u001b[0;32m   1657\u001b[0m         loop\u001b[38;5;241m.\u001b[39mtasks\u001b[38;5;241m.\u001b[39mvalues(),\n\u001b[0;32m   1658\u001b[0m         timeout\u001b[38;5;241m=\u001b[39m\u001b[38;5;28mself\u001b[39m\u001b[38;5;241m.\u001b[39mstep_timeout,\n\u001b[1;32m   (...)\u001b[0m\n\u001b[0;32m   1661\u001b[0m     ):\n\u001b[0;32m   1662\u001b[0m         \u001b[38;5;66;03m# emit output\u001b[39;00m\n\u001b[0;32m   1663\u001b[0m         \u001b[38;5;28;01myield from\u001b[39;00m output()\n",
      "File \u001b[1;32mc:\\Users\\cgwed\\anaconda3\\envs\\llm_hub\\Lib\\site-packages\\langgraph\\pregel\\loop.py:386\u001b[0m, in \u001b[0;36mPregelLoop.tick\u001b[1;34m(self, input_keys)\u001b[0m\n\u001b[0;32m    376\u001b[0m     print_step_writes(\n\u001b[0;32m    377\u001b[0m         \u001b[38;5;28mself\u001b[39m\u001b[38;5;241m.\u001b[39mstep,\n\u001b[0;32m    378\u001b[0m         writes,\n\u001b[1;32m   (...)\u001b[0m\n\u001b[0;32m    383\u001b[0m         ),\n\u001b[0;32m    384\u001b[0m     )\n\u001b[0;32m    385\u001b[0m \u001b[38;5;66;03m# all tasks have finished\u001b[39;00m\n\u001b[1;32m--> 386\u001b[0m mv_writes \u001b[38;5;241m=\u001b[39m \u001b[43mapply_writes\u001b[49m\u001b[43m(\u001b[49m\n\u001b[0;32m    387\u001b[0m \u001b[43m    \u001b[49m\u001b[38;5;28;43mself\u001b[39;49m\u001b[38;5;241;43m.\u001b[39;49m\u001b[43mcheckpoint\u001b[49m\u001b[43m,\u001b[49m\n\u001b[0;32m    388\u001b[0m \u001b[43m    \u001b[49m\u001b[38;5;28;43mself\u001b[39;49m\u001b[38;5;241;43m.\u001b[39;49m\u001b[43mchannels\u001b[49m\u001b[43m,\u001b[49m\n\u001b[0;32m    389\u001b[0m \u001b[43m    \u001b[49m\u001b[38;5;28;43mself\u001b[39;49m\u001b[38;5;241;43m.\u001b[39;49m\u001b[43mtasks\u001b[49m\u001b[38;5;241;43m.\u001b[39;49m\u001b[43mvalues\u001b[49m\u001b[43m(\u001b[49m\u001b[43m)\u001b[49m\u001b[43m,\u001b[49m\n\u001b[0;32m    390\u001b[0m \u001b[43m    \u001b[49m\u001b[38;5;28;43mself\u001b[39;49m\u001b[38;5;241;43m.\u001b[39;49m\u001b[43mcheckpointer_get_next_version\u001b[49m\u001b[43m,\u001b[49m\n\u001b[0;32m    391\u001b[0m \u001b[43m\u001b[49m\u001b[43m)\u001b[49m\n\u001b[0;32m    392\u001b[0m \u001b[38;5;66;03m# apply writes to managed values\u001b[39;00m\n\u001b[0;32m    393\u001b[0m \u001b[38;5;28;01mfor\u001b[39;00m key, values \u001b[38;5;129;01min\u001b[39;00m mv_writes\u001b[38;5;241m.\u001b[39mitems():\n",
      "File \u001b[1;32mc:\\Users\\cgwed\\anaconda3\\envs\\llm_hub\\Lib\\site-packages\\langgraph\\pregel\\algo.py:293\u001b[0m, in \u001b[0;36mapply_writes\u001b[1;34m(checkpoint, channels, tasks, get_next_version)\u001b[0m\n\u001b[0;32m    291\u001b[0m \u001b[38;5;28;01mfor\u001b[39;00m chan, vals \u001b[38;5;129;01min\u001b[39;00m pending_writes_by_channel\u001b[38;5;241m.\u001b[39mitems():\n\u001b[0;32m    292\u001b[0m     \u001b[38;5;28;01mif\u001b[39;00m chan \u001b[38;5;129;01min\u001b[39;00m channels:\n\u001b[1;32m--> 293\u001b[0m         \u001b[38;5;28;01mif\u001b[39;00m \u001b[43mchannels\u001b[49m\u001b[43m[\u001b[49m\u001b[43mchan\u001b[49m\u001b[43m]\u001b[49m\u001b[38;5;241;43m.\u001b[39;49m\u001b[43mupdate\u001b[49m\u001b[43m(\u001b[49m\u001b[43mvals\u001b[49m\u001b[43m)\u001b[49m \u001b[38;5;129;01mand\u001b[39;00m get_next_version \u001b[38;5;129;01mis\u001b[39;00m \u001b[38;5;129;01mnot\u001b[39;00m \u001b[38;5;28;01mNone\u001b[39;00m:\n\u001b[0;32m    294\u001b[0m             checkpoint[\u001b[38;5;124m\"\u001b[39m\u001b[38;5;124mchannel_versions\u001b[39m\u001b[38;5;124m\"\u001b[39m][chan] \u001b[38;5;241m=\u001b[39m get_next_version(\n\u001b[0;32m    295\u001b[0m                 max_version,\n\u001b[0;32m    296\u001b[0m                 channels[chan],\n\u001b[0;32m    297\u001b[0m             )\n\u001b[0;32m    298\u001b[0m         updated_channels\u001b[38;5;241m.\u001b[39madd(chan)\n",
      "File \u001b[1;32mc:\\Users\\cgwed\\anaconda3\\envs\\llm_hub\\Lib\\site-packages\\langgraph\\channels\\binop.py:88\u001b[0m, in \u001b[0;36mBinaryOperatorAggregate.update\u001b[1;34m(self, values)\u001b[0m\n\u001b[0;32m     86\u001b[0m     values \u001b[38;5;241m=\u001b[39m values[\u001b[38;5;241m1\u001b[39m:]\n\u001b[0;32m     87\u001b[0m \u001b[38;5;28;01mfor\u001b[39;00m value \u001b[38;5;129;01min\u001b[39;00m values:\n\u001b[1;32m---> 88\u001b[0m     \u001b[38;5;28mself\u001b[39m\u001b[38;5;241m.\u001b[39mvalue \u001b[38;5;241m=\u001b[39m \u001b[38;5;28;43mself\u001b[39;49m\u001b[38;5;241;43m.\u001b[39;49m\u001b[43moperator\u001b[49m\u001b[43m(\u001b[49m\u001b[38;5;28;43mself\u001b[39;49m\u001b[38;5;241;43m.\u001b[39;49m\u001b[43mvalue\u001b[49m\u001b[43m,\u001b[49m\u001b[43m \u001b[49m\u001b[43mvalue\u001b[49m\u001b[43m)\u001b[49m\n\u001b[0;32m     89\u001b[0m \u001b[38;5;28;01mreturn\u001b[39;00m \u001b[38;5;28;01mTrue\u001b[39;00m\n",
      "File \u001b[1;32mc:\\Users\\cgwed\\anaconda3\\envs\\llm_hub\\Lib\\site-packages\\langgraph\\graph\\message.py:76\u001b[0m, in \u001b[0;36madd_messages\u001b[1;34m(left, right)\u001b[0m\n\u001b[0;32m     69\u001b[0m \u001b[38;5;66;03m# coerce to message\u001b[39;00m\n\u001b[0;32m     70\u001b[0m left \u001b[38;5;241m=\u001b[39m [\n\u001b[0;32m     71\u001b[0m     message_chunk_to_message(cast(BaseMessageChunk, m))\n\u001b[0;32m     72\u001b[0m     \u001b[38;5;28;01mfor\u001b[39;00m m \u001b[38;5;129;01min\u001b[39;00m convert_to_messages(left)\n\u001b[0;32m     73\u001b[0m ]\n\u001b[0;32m     74\u001b[0m right \u001b[38;5;241m=\u001b[39m [\n\u001b[0;32m     75\u001b[0m     message_chunk_to_message(cast(BaseMessageChunk, m))\n\u001b[1;32m---> 76\u001b[0m     \u001b[38;5;28;01mfor\u001b[39;00m m \u001b[38;5;129;01min\u001b[39;00m \u001b[43mconvert_to_messages\u001b[49m\u001b[43m(\u001b[49m\u001b[43mright\u001b[49m\u001b[43m)\u001b[49m\n\u001b[0;32m     77\u001b[0m ]\n\u001b[0;32m     78\u001b[0m \u001b[38;5;66;03m# assign missing ids\u001b[39;00m\n\u001b[0;32m     79\u001b[0m \u001b[38;5;28;01mfor\u001b[39;00m m \u001b[38;5;129;01min\u001b[39;00m left:\n",
      "File \u001b[1;32mc:\\Users\\cgwed\\anaconda3\\envs\\llm_hub\\Lib\\site-packages\\langchain_core\\messages\\utils.py:357\u001b[0m, in \u001b[0;36mconvert_to_messages\u001b[1;34m(messages)\u001b[0m\n\u001b[0;32m    355\u001b[0m \u001b[38;5;28;01mif\u001b[39;00m \u001b[38;5;28misinstance\u001b[39m(messages, PromptValue):\n\u001b[0;32m    356\u001b[0m     \u001b[38;5;28;01mreturn\u001b[39;00m messages\u001b[38;5;241m.\u001b[39mto_messages()\n\u001b[1;32m--> 357\u001b[0m \u001b[38;5;28;01mreturn\u001b[39;00m [\u001b[43m_convert_to_message\u001b[49m\u001b[43m(\u001b[49m\u001b[43mm\u001b[49m\u001b[43m)\u001b[49m \u001b[38;5;28;01mfor\u001b[39;00m m \u001b[38;5;129;01min\u001b[39;00m messages]\n",
      "File \u001b[1;32mc:\\Users\\cgwed\\anaconda3\\envs\\llm_hub\\Lib\\site-packages\\langchain_core\\messages\\utils.py:329\u001b[0m, in \u001b[0;36m_convert_to_message\u001b[1;34m(message)\u001b[0m\n\u001b[0;32m    325\u001b[0m         msg \u001b[38;5;241m=\u001b[39m \u001b[38;5;124mf\u001b[39m\u001b[38;5;124m\"\u001b[39m\u001b[38;5;124mMessage dict must contain \u001b[39m\u001b[38;5;124m'\u001b[39m\u001b[38;5;124mrole\u001b[39m\u001b[38;5;124m'\u001b[39m\u001b[38;5;124m and \u001b[39m\u001b[38;5;124m'\u001b[39m\u001b[38;5;124mcontent\u001b[39m\u001b[38;5;124m'\u001b[39m\u001b[38;5;124m keys, got \u001b[39m\u001b[38;5;132;01m{\u001b[39;00mmessage\u001b[38;5;132;01m}\u001b[39;00m\u001b[38;5;124m\"\u001b[39m\n\u001b[0;32m    326\u001b[0m         msg \u001b[38;5;241m=\u001b[39m create_message(\n\u001b[0;32m    327\u001b[0m             message\u001b[38;5;241m=\u001b[39mmsg, error_code\u001b[38;5;241m=\u001b[39mErrorCode\u001b[38;5;241m.\u001b[39mMESSAGE_COERCION_FAILURE\n\u001b[0;32m    328\u001b[0m         )\n\u001b[1;32m--> 329\u001b[0m         \u001b[38;5;28;01mraise\u001b[39;00m \u001b[38;5;167;01mValueError\u001b[39;00m(msg) \u001b[38;5;28;01mfrom\u001b[39;00m \u001b[38;5;21;01me\u001b[39;00m\n\u001b[0;32m    330\u001b[0m     _message \u001b[38;5;241m=\u001b[39m _create_message_from_message_type(\n\u001b[0;32m    331\u001b[0m         msg_type, msg_content, \u001b[38;5;241m*\u001b[39m\u001b[38;5;241m*\u001b[39mmsg_kwargs\n\u001b[0;32m    332\u001b[0m     )\n\u001b[0;32m    333\u001b[0m \u001b[38;5;28;01melse\u001b[39;00m:\n",
      "\u001b[1;31mValueError\u001b[0m: Message dict must contain 'role' and 'content' keys, got {'messages': [HumanMessage(content='Solve this problem: (2+3)-4*8', additional_kwargs={}, response_metadata={}, id='5fc0167f-af22-4e06-a0a7-e9f02a0ba22f', role='user'), AIMessage(content='To solve this problem, we need to follow the order of operations (PEMDAS):\\n\\n1. Evaluate the expressions inside the parentheses: 2+3 = 5\\n2. Multiply 4 and 8: 4*8 = 32\\n3. Subtract 32 from 5: 5 - 32 = -27\\n\\nSo the final answer is -27.', additional_kwargs={'usage': {'prompt_tokens': 24, 'completion_tokens': 79, 'total_tokens': 103}, 'stop_reason': 'stop', 'model_id': 'meta.llama3-8b-instruct-v1:0'}, response_metadata={'usage': {'prompt_tokens': 24, 'completion_tokens': 79, 'total_tokens': 103}, 'stop_reason': 'stop', 'model_id': 'meta.llama3-8b-instruct-v1:0'}, id='run-5a55803a-82cb-455e-aa5b-1a370662f7c7-0', usage_metadata={'input_tokens': 24, 'output_tokens': 79, 'total_tokens': 103})]}\nFor troubleshooting, visit: https://python.langchain.com/docs/troubleshooting/errors/MESSAGE_COERCION_FAILURE ",
      "\u001b[0mDuring task with name 'MultiplyAgent' and id '75d71de5-ebac-8fa3-f96e-b94c81c2b09d'"
     ]
    }
   ],
   "source": [
    "result = graph.graph.invoke({\"messages\": [HumanMessage(content=message, role=\"user\")]})"
   ]
  },
  {
   "cell_type": "code",
   "execution_count": 32,
   "metadata": {},
   "outputs": [
    {
     "ename": "TypeError",
     "evalue": "CustomAgent.invoke() missing 2 required positional arguments: 'state' and 'query'",
     "output_type": "error",
     "traceback": [
      "\u001b[1;31m---------------------------------------------------------------------------\u001b[0m",
      "\u001b[1;31mTypeError\u001b[0m                                 Traceback (most recent call last)",
      "Cell \u001b[1;32mIn[32], line 1\u001b[0m\n\u001b[1;32m----> 1\u001b[0m \u001b[43madd_agent\u001b[49m\u001b[38;5;241;43m.\u001b[39;49m\u001b[43minvoke\u001b[49m\u001b[43m(\u001b[49m\u001b[43m)\u001b[49m\n",
      "\u001b[1;31mTypeError\u001b[0m: CustomAgent.invoke() missing 2 required positional arguments: 'state' and 'query'"
     ]
    }
   ],
   "source": [
    "add_agent.invoke()"
   ]
  },
  {
   "cell_type": "code",
   "execution_count": 45,
   "metadata": {},
   "outputs": [
    {
     "name": "stdout",
     "output_type": "stream",
     "text": [
      "    def invoke(self, state):\n",
      "        \"\"\"\n",
      "        Run the agent with the user prompt\n",
      "\n",
      "        Returns:\n",
      "            _type_: _description_\n",
      "        \"\"\"\n",
      "        logging.debug(f'Invoking {self.name}')\n",
      "        response = self.agent.invoke(state)\n",
      "        return Command(\n",
      "            update={\n",
      "                \"messages\": [\n",
      "                    HumanMessage(content=response[\"messages\"][-1].content, name=self.name)\n",
      "                ]\n",
      "            }\n",
      "        )\n",
      "        #state[\"messages\"].append({\"node\": self.name, \"content\": response})\n",
      "\n",
      "        return state\n",
      "\n"
     ]
    }
   ],
   "source": [
    "import inspect\n",
    "print(inspect.getsource(add_agent.invoke))"
   ]
  },
  {
   "cell_type": "code",
   "execution_count": null,
   "metadata": {},
   "outputs": [],
   "source": []
  }
 ],
 "metadata": {
  "kernelspec": {
   "display_name": "llm_hub",
   "language": "python",
   "name": "python3"
  },
  "language_info": {
   "codemirror_mode": {
    "name": "ipython",
    "version": 3
   },
   "file_extension": ".py",
   "mimetype": "text/x-python",
   "name": "python",
   "nbconvert_exporter": "python",
   "pygments_lexer": "ipython3",
   "version": "3.12.4"
  }
 },
 "nbformat": 4,
 "nbformat_minor": 2
}
